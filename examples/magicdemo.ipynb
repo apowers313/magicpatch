{
 "cells": [
  {
   "cell_type": "markdown",
   "metadata": {},
   "source": [
    "# Demos of IJavascriptEX %magic and other commands"
   ]
  },
  {
   "cell_type": "markdown",
   "metadata": {},
   "source": [
    "## Still runs code"
   ]
  },
  {
   "cell_type": "code",
   "execution_count": 1,
   "metadata": {},
   "outputs": [
    {
     "name": "stdout",
     "output_type": "stream",
     "text": [
      "running code: n = \"bob\";\n",
      "console.log(\"hi\", n);\n",
      "hi bob\n"
     ]
    }
   ],
   "source": [
    "n = \"bob\";\n",
    "console.log(\"hi\", n);"
   ]
  },
  {
   "cell_type": "markdown",
   "metadata": {},
   "source": [
    "## %magic example"
   ]
  },
  {
   "cell_type": "code",
   "execution_count": 2,
   "metadata": {},
   "outputs": [
    {
     "name": "stdout",
     "output_type": "stream",
     "text": [
      "hi there\n"
     ]
    }
   ],
   "source": [
    "%echo hi there"
   ]
  },
  {
   "cell_type": "markdown",
   "metadata": {},
   "source": [
    "Note that duplicate spaces are removed before being passed to the magic"
   ]
  },
  {
   "cell_type": "code",
   "execution_count": 3,
   "metadata": {
    "scrolled": true
   },
   "outputs": [
    {
     "name": "stdout",
     "output_type": "stream",
     "text": [
      "   hi    there\n"
     ]
    }
   ],
   "source": [
    "%echo    hi    there    "
   ]
  },
  {
   "cell_type": "markdown",
   "metadata": {},
   "source": [
    "## %addmagic"
   ]
  },
  {
   "cell_type": "markdown",
   "metadata": {},
   "source": [
    "Adds a new magic command. Syntax is `%addcmd cmdname fnname`.  `cmdname` must start with a symbol like `%` or `.`, and `fnname` is a string that is the name of a function. `fnname` is not checked to see if it exists until the magic is called."
   ]
  },
  {
   "cell_type": "code",
   "execution_count": 4,
   "metadata": {},
   "outputs": [
    {
     "name": "stdout",
     "output_type": "stream",
     "text": [
      "running code: function bar() {\n",
      "    console.log(\"LETS ALL GO TO THE BAR\");\n",
      "}\n",
      "[ added magic: '%foo' which will call function 'bar' ]\n"
     ]
    }
   ],
   "source": [
    "function bar() {\n",
    "    console.log(\"LETS ALL GO TO THE BAR\");\n",
    "}\n",
    "%addmagic %foo bar"
   ]
  },
  {
   "cell_type": "code",
   "execution_count": 5,
   "metadata": {},
   "outputs": [
    {
     "name": "stdout",
     "output_type": "stream",
     "text": [
      "LETS ALL GO TO THE BAR\n"
     ]
    }
   ],
   "source": [
    "%foo"
   ]
  },
  {
   "cell_type": "code",
   "execution_count": 6,
   "metadata": {},
   "outputs": [
    {
     "name": "stdout",
     "output_type": "stream",
     "text": [
      "running code: function sayMyName(cmd, name) {\n",
      "    console.log(\"my name is:\", name);\n",
      "}\n"
     ]
    }
   ],
   "source": [
    "function sayMyName(cmd, name) {\n",
    "    console.log(\"my name is:\", name);\n",
    "}"
   ]
  },
  {
   "cell_type": "code",
   "execution_count": 7,
   "metadata": {},
   "outputs": [
    {
     "name": "stdout",
     "output_type": "stream",
     "text": [
      "[ added magic: '%name' which will call function 'sayMyName' ]\n"
     ]
    }
   ],
   "source": [
    "%addmagic %name sayMyName"
   ]
  },
  {
   "cell_type": "code",
   "execution_count": 8,
   "metadata": {},
   "outputs": [
    {
     "name": "stdout",
     "output_type": "stream",
     "text": [
      "my name is: mud\n"
     ]
    }
   ],
   "source": [
    "%name mud"
   ]
  },
  {
   "cell_type": "markdown",
   "metadata": {},
   "source": [
    "## !exec"
   ]
  },
  {
   "cell_type": "code",
   "execution_count": 4,
   "metadata": {},
   "outputs": [
    {
     "name": "stdout",
     "output_type": "stream",
     "text": [
      "running code: !ls -laF\n"
     ]
    },
    {
     "name": "stderr",
     "output_type": "stream",
     "text": [
      "evalmachine.<anonymous>:1\n",
      "!ls -laF\n",
      "^\n",
      "\n",
      "ReferenceError: ls is not defined\n",
      "    at evalmachine.<anonymous>:1:1\n",
      "    at Script.runInThisContext (vm.js:132:18)\n",
      "    at runInThisContext (vm.js:315:38)\n",
      "    at runCode (/Users/ampower/Projects/personal/magicpatch/lib/interpreter.js:322:12)\n",
      "    at magicInterpreter (/Users/ampower/Projects/personal/magicpatch/lib/interpreter.js:186:11)\n",
      "    at Object.ijavascriptMonkeyPatch [as runInThisContext] (/Users/ampower/Projects/personal/magicpatch/lib/interpreter.js:64:20)\n",
      "    at run ([eval]:1054:15)\n",
      "    at onRunRequest ([eval]:888:18)\n",
      "    at onMessage ([eval]:848:13)\n",
      "    at process.emit (events.js:314:20)\n"
     ]
    }
   ],
   "source": [
    "!ls -laF"
   ]
  },
  {
   "cell_type": "code",
   "execution_count": 5,
   "metadata": {},
   "outputs": [
    {
     "name": "stdout",
     "output_type": "stream",
     "text": [
      "running code: ! ls\n"
     ]
    },
    {
     "name": "stderr",
     "output_type": "stream",
     "text": [
      "evalmachine.<anonymous>:1\n",
      "! ls\n",
      "^\n",
      "\n",
      "ReferenceError: ls is not defined\n",
      "    at evalmachine.<anonymous>:1:1\n",
      "    at Script.runInThisContext (vm.js:132:18)\n",
      "    at runInThisContext (vm.js:315:38)\n",
      "    at runCode (/Users/ampower/Projects/personal/magicpatch/lib/interpreter.js:322:12)\n",
      "    at magicInterpreter (/Users/ampower/Projects/personal/magicpatch/lib/interpreter.js:186:11)\n",
      "    at Object.ijavascriptMonkeyPatch [as runInThisContext] (/Users/ampower/Projects/personal/magicpatch/lib/interpreter.js:64:20)\n",
      "    at run ([eval]:1054:15)\n",
      "    at onRunRequest ([eval]:888:18)\n",
      "    at onMessage ([eval]:848:13)\n",
      "    at process.emit (events.js:314:20)\n"
     ]
    }
   ],
   "source": [
    "! ls"
   ]
  },
  {
   "cell_type": "code",
   "execution_count": 6,
   "metadata": {},
   "outputs": [
    {
     "name": "stdout",
     "output_type": "stream",
     "text": [
      "running code: !npm ls\n"
     ]
    },
    {
     "name": "stderr",
     "output_type": "stream",
     "text": [
      "evalmachine.<anonymous>:1\n",
      "!npm ls\n",
      "     ^^\n",
      "\n",
      "SyntaxError: Unexpected identifier\n",
      "    at new Script (vm.js:100:7)\n",
      "    at createScript (vm.js:267:10)\n",
      "    at runInThisContext (vm.js:315:10)\n",
      "    at runCode (/Users/ampower/Projects/personal/magicpatch/lib/interpreter.js:322:12)\n",
      "    at magicInterpreter (/Users/ampower/Projects/personal/magicpatch/lib/interpreter.js:186:11)\n",
      "    at Object.ijavascriptMonkeyPatch [as runInThisContext] (/Users/ampower/Projects/personal/magicpatch/lib/interpreter.js:64:20)\n",
      "    at run ([eval]:1054:15)\n",
      "    at onRunRequest ([eval]:888:18)\n",
      "    at onMessage ([eval]:848:13)\n",
      "    at process.emit (events.js:314:20)\n"
     ]
    }
   ],
   "source": [
    "!npm ls"
   ]
  },
  {
   "cell_type": "markdown",
   "metadata": {},
   "source": [
    "##  {var} substitution"
   ]
  },
  {
   "cell_type": "markdown",
   "metadata": {},
   "source": [
    "Using {var} will be replaced with the variable `var`. "
   ]
  },
  {
   "cell_type": "code",
   "execution_count": 7,
   "metadata": {
    "scrolled": true
   },
   "outputs": [
    {
     "name": "stdout",
     "output_type": "stream",
     "text": [
      "running code: x = 42\n",
      "42\n"
     ]
    }
   ],
   "source": [
    "x = 42\n",
    "%echo {x}"
   ]
  },
  {
   "cell_type": "code",
   "execution_count": 8,
   "metadata": {},
   "outputs": [
    {
     "name": "stdout",
     "output_type": "stream",
     "text": [
      "running code: o = {\n",
      "    beer: \"yum\"\n",
      "}\n",
      "{ beer: 'yum' }\n"
     ]
    }
   ],
   "source": [
    "o = {\n",
    "    beer: \"yum\"\n",
    "}\n",
    "%echo {o}"
   ]
  },
  {
   "cell_type": "code",
   "execution_count": 9,
   "metadata": {},
   "outputs": [
    {
     "name": "stdout",
     "output_type": "stream",
     "text": [
      "x42o[object Object]\n"
     ]
    }
   ],
   "source": [
    "%echo x{x}o{o}"
   ]
  },
  {
   "cell_type": "markdown",
   "metadata": {},
   "source": [
    "## view documentation\n",
    "`?` before or after a magic will show you it's documentation"
   ]
  },
  {
   "cell_type": "code",
   "execution_count": 10,
   "metadata": {},
   "outputs": [
    {
     "data": {
      "text/markdown": [
       "__%echo Documentation:__\n",
       "\n",
       "Usage: %echo &lt;string&gt;<br>\n",
       "<br>\n",
       "Write arguments to the standard output.<br>\n",
       "\n",
       "\n",
       "__File:__ /Users/ampower/Projects/personal/magicpatch/lib/builtin.js"
      ]
     },
     "execution_count": 10,
     "metadata": {},
     "output_type": "execute_result"
    }
   ],
   "source": [
    "?%echo"
   ]
  },
  {
   "cell_type": "code",
   "execution_count": 16,
   "metadata": {},
   "outputs": [
    {
     "data": {
      "text/markdown": [
       "__%echo Documentation:__\n",
       "\n",
       "Usage: %echo &lt;string&gt;<br>\n",
       "<br>\n",
       "Write arguments to the standard output.<br>\n",
       "\n",
       "\n",
       "__File:__ /Users/ampower/Projects/personal/magicpatch/lib/builtin.js"
      ]
     },
     "execution_count": 16,
     "metadata": {},
     "output_type": "execute_result"
    }
   ],
   "source": [
    "%echo?"
   ]
  },
  {
   "cell_type": "markdown",
   "metadata": {},
   "source": [
    "## view code\n",
    "`??` before or after a magic will show you the code for the function"
   ]
  },
  {
   "cell_type": "code",
   "execution_count": 17,
   "metadata": {},
   "outputs": [
    {
     "data": {
      "text/markdown": [
       "__%echo Source:__\n",
       "\n",
       "``` js\n",
       "function echo(cmd) {\n",
       "    console.log(this.varSubst(this.line.substring(this.startArgs)));\n",
       "}\n",
       "```\n",
       "\n",
       "__File:__ /Users/ampower/Projects/personal/magicpatch/lib/builtin.js"
      ]
     },
     "execution_count": 17,
     "metadata": {},
     "output_type": "execute_result"
    }
   ],
   "source": [
    "??%echo"
   ]
  },
  {
   "cell_type": "code",
   "execution_count": 18,
   "metadata": {},
   "outputs": [
    {
     "data": {
      "text/markdown": [
       "__%echo Source:__\n",
       "\n",
       "``` js\n",
       "function echo(cmd) {\n",
       "    console.log(this.varSubst(this.line.substring(this.startArgs)));\n",
       "}\n",
       "```\n",
       "\n",
       "__File:__ /Users/ampower/Projects/personal/magicpatch/lib/builtin.js"
      ]
     },
     "execution_count": 18,
     "metadata": {},
     "output_type": "execute_result"
    }
   ],
   "source": [
    "%echo??"
   ]
  },
  {
   "cell_type": "markdown",
   "metadata": {},
   "source": [
    "## output values\n",
    "The previous three output values are stored in `_`, `__`, and `___`."
   ]
  },
  {
   "cell_type": "code",
   "execution_count": 19,
   "metadata": {},
   "outputs": [
    {
     "name": "stdout",
     "output_type": "stream",
     "text": [
      "running code: \"first\"\n"
     ]
    },
    {
     "data": {
      "text/plain": [
       "'first'"
      ]
     },
     "execution_count": 19,
     "metadata": {},
     "output_type": "execute_result"
    }
   ],
   "source": [
    "\"first\""
   ]
  },
  {
   "cell_type": "code",
   "execution_count": 20,
   "metadata": {},
   "outputs": [
    {
     "name": "stdout",
     "output_type": "stream",
     "text": [
      "running code: \"second\"\n"
     ]
    },
    {
     "data": {
      "text/plain": [
       "'second'"
      ]
     },
     "execution_count": 20,
     "metadata": {},
     "output_type": "execute_result"
    }
   ],
   "source": [
    "\"second\""
   ]
  },
  {
   "cell_type": "code",
   "execution_count": 21,
   "metadata": {},
   "outputs": [
    {
     "name": "stdout",
     "output_type": "stream",
     "text": [
      "running code: \"third\"\n"
     ]
    },
    {
     "data": {
      "text/plain": [
       "'third'"
      ]
     },
     "execution_count": 21,
     "metadata": {},
     "output_type": "execute_result"
    }
   ],
   "source": [
    "\"third\""
   ]
  },
  {
   "cell_type": "code",
   "execution_count": 22,
   "metadata": {},
   "outputs": [
    {
     "name": "stdout",
     "output_type": "stream",
     "text": [
      "running code: console.log(\"last output:\", _)\n",
      "console.log(\"second to last output:\", __)\n",
      "console.log(\"output before that:\", ___)\n",
      "last output: third\n",
      "second to last output: second\n",
      "output before that: first\n"
     ]
    }
   ],
   "source": [
    "console.log(\"last output:\", _)\n",
    "console.log(\"second to last output:\", __)\n",
    "console.log(\"output before that:\", ___)"
   ]
  },
  {
   "cell_type": "markdown",
   "metadata": {},
   "source": [
    "## stdmagic"
   ]
  },
  {
   "cell_type": "markdown",
   "metadata": {},
   "source": [
    "A use a set of magics from a library"
   ]
  },
  {
   "cell_type": "code",
   "execution_count": 23,
   "metadata": {},
   "outputs": [
    {
     "name": "stdout",
     "output_type": "stream",
     "text": [
      "[ loading /Users/ampower/Projects/personal/stdmagic/index.js ]\n",
      "[ added magic: '%%bash' which will call function 'stub' ]\n",
      "[ added magic: '%%capture' which will call function 'stub' ]\n",
      "[ added magic: '%%debug' which will call function 'stub' ]\n",
      "[ added magic: '%%file' which will call function 'stub' ]\n",
      "[ added magic: '%%html' which will call function 'stub' ]\n",
      "[ added magic: '%%HTML' which will call function 'stub' ]\n",
      "[ added magic: '%%javascript' which will call function 'stub' ]\n",
      "[ added magic: '%%js' which will call function 'stub' ]\n",
      "[ added magic: '%%latex' which will call function 'stub' ]\n",
      "[ added magic: '%%markdown' which will call function 'stub' ]\n",
      "[ added magic: '%%perl' which will call function 'stub' ]\n",
      "[ added magic: '%%prun' which will call function 'stub' ]\n",
      "[ added magic: '%%pypy' which will call function 'stub' ]\n",
      "[ added magic: '%%python' which will call function 'stub' ]\n",
      "[ added magic: '%%python2' which will call function 'stub' ]\n",
      "[ added magic: '%%python3' which will call function 'stub' ]\n",
      "[ added magic: '%%ruby' which will call function 'stub' ]\n",
      "addmagic: a command named '%%script' already exists\n"
     ]
    }
   ],
   "source": [
    "%require ../../stdmagic/index.js"
   ]
  },
  {
   "cell_type": "code",
   "execution_count": 24,
   "metadata": {},
   "outputs": [
    {
     "name": "stderr",
     "output_type": "stream",
     "text": [
      "ReferenceError: args is not defined\n",
      "    at magicInterpreter (/Users/ampower/Projects/personal/magicpatch/lib/interpreter.js:168:69)\n",
      "    at Object.ijavascriptMonkeyPatch [as runInThisContext] (/Users/ampower/Projects/personal/magicpatch/lib/interpreter.js:64:23)\n",
      "    at run ([eval]:1054:15)\n",
      "    at onRunRequest ([eval]:888:18)\n",
      "    at onMessage ([eval]:848:13)\n",
      "    at process.emit (events.js:314:20)\n",
      "    at emit (internal/child_process.js:906:12)\n",
      "    at processTicksAndRejections (internal/process/task_queues.js:81:21)\n"
     ]
    }
   ],
   "source": [
    "%lsmagic"
   ]
  },
  {
   "cell_type": "code",
   "execution_count": 25,
   "metadata": {
    "scrolled": true
   },
   "outputs": [
    {
     "name": "stdout",
     "output_type": "stream",
     "text": [
      "Untitled.ipynb\n",
      "Untitled1.ipynb\n",
      "Untitled2.ipynb\n",
      "Untitled3.ipynb\n",
      "Untitled4.ipynb\n",
      "async.ipynb\n",
      "complete.md\n",
      "custom.ipynb\n",
      "hello.ipynb\n",
      "inspect.md\n",
      "install.md\n",
      "magicdemo.ipynb\n",
      "n-riesco.global.ipynb\n",
      "n-riesco.this.ipynb\n",
      "navbar.json\n",
      "nbconvert\n",
      "overview.md\n",
      "usage.md\n",
      "\n",
      "[ process 'ls' exited with code 0 ]\n"
     ]
    },
    {
     "data": {
      "text/plain": [
       "0"
      ]
     },
     "execution_count": 25,
     "metadata": {},
     "output_type": "execute_result"
    }
   ],
   "source": [
    "%ls"
   ]
  },
  {
   "cell_type": "code",
   "execution_count": 26,
   "metadata": {},
   "outputs": [
    {
     "name": "stdout",
     "output_type": "stream",
     "text": [
      "total 408\n",
      "drwxr-xr-x  21 ampower  staff     672 Dec 12 23:07 ./\n",
      "drwxr-xr-x  26 ampower  staff     832 Dec 12 22:40 ../\n",
      "drwxr-xr-x   8 ampower  staff     256 Dec 12 21:35 .ipynb_checkpoints/\n",
      "-rw-r--r--   1 ampower  staff    4806 Dec  6 20:59 Untitled.ipynb\n",
      "-rw-r--r--   1 ampower  staff    4857 Dec  9 08:51 Untitled1.ipynb\n",
      "-rw-r--r--   1 ampower  staff    1519 Dec 10 22:13 Untitled2.ipynb\n",
      "-rw-r--r--   1 ampower  staff    5416 Dec 11 07:30 Untitled3.ipynb\n",
      "-rw-r--r--   1 ampower  staff    2844 Dec 12 21:43 Untitled4.ipynb\n",
      "-rw-r--r--   1 ampower  staff    7162 Nov 23 22:21 async.ipynb\n",
      "-rw-r--r--   1 ampower  staff     548 Nov 23 22:21 complete.md\n",
      "-rw-r--r--   1 ampower  staff   14345 Nov 23 22:21 custom.ipynb\n",
      "-rw-r--r--   1 ampower  staff    3041 Nov 23 22:21 hello.ipynb\n",
      "-rw-r--r--   1 ampower  staff     491 Nov 23 22:21 inspect.md\n",
      "-rw-r--r--   1 ampower  staff    8001 Nov 23 22:21 install.md\n",
      "-rw-r--r--   1 ampower  staff  102298 Dec 12 23:07 magicdemo.ipynb\n",
      "-rw-r--r--   1 ampower  staff    5013 Nov 23 22:21 n-riesco.global.ipynb\n",
      "-rw-r--r--   1 ampower  staff    4331 Nov 23 22:21 n-riesco.this.ipynb\n",
      "-rw-r--r--   1 ampower  staff     556 Nov 23 22:21 navbar.json\n",
      "drwxr-xr-x   8 ampower  staff     256 Nov 23 22:21 nbconvert/\n",
      "-rw-r--r--   1 ampower  staff    2331 Nov 23 22:21 overview.md\n",
      "-rw-r--r--   1 ampower  staff    3365 Nov 23 22:21 usage.md\n",
      "\n",
      "[ process 'ls -laF' exited with code 0 ]\n"
     ]
    },
    {
     "data": {
      "text/plain": [
       "0"
      ]
     },
     "execution_count": 26,
     "metadata": {},
     "output_type": "execute_result"
    }
   ],
   "source": [
    "%ls -laF"
   ]
  },
  {
   "cell_type": "code",
   "execution_count": 27,
   "metadata": {},
   "outputs": [
    {
     "name": "stdout",
     "output_type": "stream",
     "text": [
      "bar\t n\t o\t sayMyName\t x\n"
     ]
    }
   ],
   "source": [
    "%who"
   ]
  },
  {
   "cell_type": "code",
   "execution_count": 28,
   "metadata": {},
   "outputs": [
    {
     "name": "stdout",
     "output_type": "stream",
     "text": [
      " Variable    Type       Data/Info \n",
      "------------------------------------\n",
      " bar         function   function  \n",
      " n           string     \"bob\"     \n",
      " o           Object     {beer}    \n",
      " sayMyName   function   function  \n",
      " x           number     42        \n",
      "\n"
     ]
    }
   ],
   "source": [
    "%whos"
   ]
  },
  {
   "cell_type": "markdown",
   "metadata": {},
   "source": [
    "# These tests should fail"
   ]
  },
  {
   "cell_type": "markdown",
   "metadata": {},
   "source": [
    "## %addcmd foo bar"
   ]
  },
  {
   "cell_type": "code",
   "execution_count": 29,
   "metadata": {},
   "outputs": [
    {
     "name": "stderr",
     "output_type": "stream",
     "text": [
      "TypeError: UsageError: Line magic function '%addcmd' not found.\n",
      "    at magicInterpreter (/Users/ampower/Projects/personal/ijavascriptex/lib/magic/interpreter.js:126:19)\n",
      "    at Object.ijavascriptexMonkeyPatch [as runInThisContext] (/Users/ampower/Projects/personal/ijavascriptex/lib/magic/interpreter.js:23:27)\n",
      "    at run ([eval]:1054:15)\n",
      "    at onRunRequest ([eval]:888:18)\n",
      "    at onMessage ([eval]:848:13)\n",
      "    at process.emit (events.js:314:20)\n",
      "    at emit (internal/child_process.js:906:12)\n",
      "    at processTicksAndRejections (internal/process/task_queues.js:81:21)\n"
     ]
    }
   ],
   "source": [
    "%addcmd foo bar"
   ]
  },
  {
   "cell_type": "markdown",
   "metadata": {},
   "source": [
    "## %addcmd x\n",
    "addcmd expected exactly two arguments but got: 'x'"
   ]
  },
  {
   "cell_type": "code",
   "execution_count": 30,
   "metadata": {},
   "outputs": [
    {
     "name": "stderr",
     "output_type": "stream",
     "text": [
      "TypeError: UsageError: Line magic function '%addcmd' not found.\n",
      "    at magicInterpreter (/Users/ampower/Projects/personal/ijavascriptex/lib/magic/interpreter.js:126:19)\n",
      "    at Object.ijavascriptexMonkeyPatch [as runInThisContext] (/Users/ampower/Projects/personal/ijavascriptex/lib/magic/interpreter.js:23:27)\n",
      "    at run ([eval]:1054:15)\n",
      "    at onRunRequest ([eval]:888:18)\n",
      "    at onMessage ([eval]:848:13)\n",
      "    at process.emit (events.js:314:20)\n",
      "    at emit (internal/child_process.js:906:12)\n",
      "    at processTicksAndRejections (internal/process/task_queues.js:81:21)\n"
     ]
    }
   ],
   "source": [
    "%addcmd x"
   ]
  },
  {
   "cell_type": "markdown",
   "metadata": {},
   "source": [
    "## %addcmd a b c\n",
    "addcmd expected exactly two arguments but got: 'a,b,c'"
   ]
  },
  {
   "cell_type": "code",
   "execution_count": 31,
   "metadata": {},
   "outputs": [
    {
     "name": "stderr",
     "output_type": "stream",
     "text": [
      "TypeError: UsageError: Line magic function '%addcmd' not found.\n",
      "    at magicInterpreter (/Users/ampower/Projects/personal/ijavascriptex/lib/magic/interpreter.js:126:19)\n",
      "    at Object.ijavascriptexMonkeyPatch [as runInThisContext] (/Users/ampower/Projects/personal/ijavascriptex/lib/magic/interpreter.js:23:27)\n",
      "    at run ([eval]:1054:15)\n",
      "    at onRunRequest ([eval]:888:18)\n",
      "    at onMessage ([eval]:848:13)\n",
      "    at process.emit (events.js:314:20)\n",
      "    at emit (internal/child_process.js:906:12)\n",
      "    at processTicksAndRejections (internal/process/task_queues.js:81:21)\n"
     ]
    }
   ],
   "source": [
    "%addcmd a b c"
   ]
  },
  {
   "cell_type": "markdown",
   "metadata": {},
   "source": [
    "## %matplotlib\n",
    "Sorry, the magic '%matplotlib' is not implemented (yet)."
   ]
  },
  {
   "cell_type": "code",
   "execution_count": 32,
   "metadata": {},
   "outputs": [
    {
     "name": "stderr",
     "output_type": "stream",
     "text": [
      "Sorry, the magic '%matplotlib' is not implemented (yet).\n"
     ]
    }
   ],
   "source": [
    "%matplotlib"
   ]
  },
  {
   "cell_type": "markdown",
   "metadata": {},
   "source": [
    "## %blah\n",
    "UsageError: Line magic function '%blah' not found."
   ]
  },
  {
   "cell_type": "code",
   "execution_count": 33,
   "metadata": {},
   "outputs": [
    {
     "name": "stderr",
     "output_type": "stream",
     "text": [
      "TypeError: UsageError: Line magic function '%blah' not found.\n",
      "    at magicInterpreter (/Users/ampower/Projects/personal/ijavascriptex/lib/magic/interpreter.js:126:19)\n",
      "    at Object.ijavascriptexMonkeyPatch [as runInThisContext] (/Users/ampower/Projects/personal/ijavascriptex/lib/magic/interpreter.js:23:27)\n",
      "    at run ([eval]:1054:15)\n",
      "    at onRunRequest ([eval]:888:18)\n",
      "    at onMessage ([eval]:848:13)\n",
      "    at process.emit (events.js:314:20)\n",
      "    at emit (internal/child_process.js:906:12)\n",
      "    at processTicksAndRejections (internal/process/task_queues.js:81:21)\n"
     ]
    }
   ],
   "source": [
    "%blah"
   ]
  },
  {
   "cell_type": "markdown",
   "metadata": {},
   "source": [
    "## %%bar\n",
    "UsageError: Cell magic '%%bar' not found."
   ]
  },
  {
   "cell_type": "code",
   "execution_count": 34,
   "metadata": {},
   "outputs": [
    {
     "name": "stderr",
     "output_type": "stream",
     "text": [
      "TypeError: UsageError: Cell magic '%%bar' not found.\n",
      "    at magicInterpreter (/Users/ampower/Projects/personal/ijavascriptex/lib/magic/interpreter.js:121:19)\n",
      "    at Object.ijavascriptexMonkeyPatch [as runInThisContext] (/Users/ampower/Projects/personal/ijavascriptex/lib/magic/interpreter.js:23:27)\n",
      "    at run ([eval]:1054:15)\n",
      "    at onRunRequest ([eval]:888:18)\n",
      "    at onMessage ([eval]:848:13)\n",
      "    at process.emit (events.js:314:20)\n",
      "    at emit (internal/child_process.js:906:12)\n",
      "    at processTicksAndRejections (internal/process/task_queues.js:81:21)\n"
     ]
    }
   ],
   "source": [
    "%%bar"
   ]
  }
 ],
 "metadata": {
  "kernelspec": {
   "display_name": "Javascript (Node.js)",
   "language": "javascript",
   "name": "javascript"
  },
  "language_info": {
   "file_extension": ".js",
   "mimetype": "application/javascript",
   "name": "javascript",
   "version": "14.8.0"
  },
  "toc": {
   "base_numbering": 1,
   "nav_menu": {},
   "number_sections": true,
   "sideBar": true,
   "skip_h1_title": false,
   "title_cell": "Table of Contents",
   "title_sidebar": "Contents",
   "toc_cell": false,
   "toc_position": {
    "height": "calc(100% - 180px)",
    "left": "10px",
    "top": "150px",
    "width": "336px"
   },
   "toc_section_display": true,
   "toc_window_display": true
  }
 },
 "nbformat": 4,
 "nbformat_minor": 4
}
