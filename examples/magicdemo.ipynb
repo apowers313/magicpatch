{
 "cells": [
  {
   "cell_type": "markdown",
   "metadata": {},
   "source": [
    "# magicpatch demos"
   ]
  },
  {
   "cell_type": "markdown",
   "metadata": {},
   "source": [
    "## Still runs normal JavaScript"
   ]
  },
  {
   "cell_type": "code",
   "execution_count": 1,
   "metadata": {},
   "outputs": [
    {
     "name": "stdout",
     "output_type": "stream",
     "text": [
      "hi bob\n"
     ]
    }
   ],
   "source": [
    "var n = \"bob\";\n",
    "console.log(\"hi\", n);"
   ]
  },
  {
   "cell_type": "markdown",
   "metadata": {},
   "source": [
    "## %magic example\n",
    "Magicpatch adds [%magic commands](https://ipython.readthedocs.io/en/stable/interactive/magics.html) to IJavascript. Magics are intended to make development faster and easier. Here's a magic called %echo that does... pretty much what you would expect:"
   ]
  },
  {
   "cell_type": "code",
   "execution_count": 2,
   "metadata": {},
   "outputs": [
    {
     "name": "stdout",
     "output_type": "stream",
     "text": [
      "hi there\n"
     ]
    }
   ],
   "source": [
    "%echo hi there"
   ]
  },
  {
   "cell_type": "markdown",
   "metadata": {},
   "source": [
    "## %addmagic"
   ]
  },
  {
   "cell_type": "markdown",
   "metadata": {},
   "source": [
    "You can also add your own magics. The syntax is `%addcmd cmdname fnname`.  `cmdname` must start with a symbol like `%` or `.`, and `fnname` is a string that is the name of a function. `fnname` is not checked to see if it exists until the magic is called. If you want to create a npm module for adding magics, you can use the global method `$$.addMagic()`, which has the same syntax."
   ]
  },
  {
   "cell_type": "code",
   "execution_count": 3,
   "metadata": {},
   "outputs": [
    {
     "name": "stdout",
     "output_type": "stream",
     "text": [
      "[ added magic: '%foo' which will call function 'bar' ]\n"
     ]
    }
   ],
   "source": [
    "function bar() {\n",
    "    console.log(\"LETS ALL GO TO THE BAR\");\n",
    "}\n",
    "%addmagic %foo bar"
   ]
  },
  {
   "cell_type": "code",
   "execution_count": 4,
   "metadata": {},
   "outputs": [
    {
     "name": "stdout",
     "output_type": "stream",
     "text": [
      "LETS ALL GO TO THE BAR\n"
     ]
    }
   ],
   "source": [
    "%foo"
   ]
  },
  {
   "cell_type": "code",
   "execution_count": 5,
   "metadata": {},
   "outputs": [],
   "source": [
    "function sayMyName(cmd, name) {\n",
    "    console.log(\"my name is:\", name);\n",
    "}"
   ]
  },
  {
   "cell_type": "code",
   "execution_count": 6,
   "metadata": {},
   "outputs": [
    {
     "name": "stdout",
     "output_type": "stream",
     "text": [
      "[ added magic: '%name' which will call function 'sayMyName' ]\n"
     ]
    }
   ],
   "source": [
    "%addmagic %name sayMyName"
   ]
  },
  {
   "cell_type": "code",
   "execution_count": 7,
   "metadata": {},
   "outputs": [
    {
     "name": "stdout",
     "output_type": "stream",
     "text": [
      "my name is: mud\n"
     ]
    }
   ],
   "source": [
    "%name mud"
   ]
  },
  {
   "cell_type": "markdown",
   "metadata": {},
   "source": [
    "## !exec\n",
    "Lines that start with `!` will execute in the underlying shell."
   ]
  },
  {
   "cell_type": "code",
   "execution_count": 8,
   "metadata": {},
   "outputs": [
    {
     "name": "stdout",
     "output_type": "stream",
     "text": [
      "total 144\n",
      "drwxr-xr-x   6 ampower  staff    192 Dec 29 07:57 ./\n",
      "drwxr-xr-x  16 ampower  staff    512 Dec 28 15:48 ../\n",
      "drwxr-xr-x   5 ampower  staff    160 Dec 28 14:41 .ipynb_checkpoints/\n",
      "-rw-r--r--   1 ampower  staff   1615 Dec 28 10:34 Untitled.ipynb\n",
      "-rw-r--r--   1 ampower  staff  10204 Dec 29 07:54 Untitled1.ipynb\n",
      "-rw-r--r--   1 ampower  staff  56342 Dec 29 07:57 magicdemo.ipynb\n",
      "[ process 'ls -laF' exited with code 0 ]\n"
     ]
    },
    {
     "data": {
      "text/plain": [
       "0"
      ]
     },
     "execution_count": 8,
     "metadata": {},
     "output_type": "execute_result"
    }
   ],
   "source": [
    "!ls -laF"
   ]
  },
  {
   "cell_type": "code",
   "execution_count": 9,
   "metadata": {},
   "outputs": [
    {
     "name": "stdout",
     "output_type": "stream",
     "text": [
      "Untitled.ipynb\n",
      "Untitled1.ipynb\n",
      "magicdemo.ipynb\n",
      "[ process 'ls' exited with code 0 ]\n"
     ]
    },
    {
     "data": {
      "text/plain": [
       "0"
      ]
     },
     "execution_count": 9,
     "metadata": {},
     "output_type": "execute_result"
    }
   ],
   "source": [
    "! ls"
   ]
  },
  {
   "cell_type": "code",
   "execution_count": 10,
   "metadata": {},
   "outputs": [
    {
     "name": "stdout",
     "output_type": "stream",
     "text": [
      "magicpatch@0.9.0 /Users/ampower/Projects/personal/magicpatch\n",
      "├─┬ chai@4.2.0\n",
      "│ ├── assertion-error@1.1.0\n",
      "│ ├── check-error@1.0.2\n",
      "│ ├─┬ deep-eql@3.0.1\n",
      "│ │ └── type-detect@4.0.8 deduped\n",
      "│ ├── get-func-name@2.0.0\n",
      "│ ├── pathval@1.1.0\n",
      "│ └── type-detect@4.0.8\n",
      "├── chai-string@1.5.0\n",
      "├── commander@6.2.1\n",
      "├─┬ doctoc@2.0.0\n",
      "│ ├─┬ @textlint/markdown-to-ast@6.1.7\n",
      "│ │ ├── @textlint/ast-node-types@4.3.5\n",
      "│ │ ├── debug@4.2.0 deduped\n",
      "│ │ ├─┬ remark-frontmatter@1.3.3\n",
      "│ │ │ ├─┬ fault@1.0.4\n",
      "│ │ │ │ └── format@0.2.2\n",
      "│ │ │ └── xtend@4.0.2\n",
      "│ │ ├─┬ remark-parse@5.0.0\n",
      "│ │ │ ├── collapse-white-space@1.0.6\n",
      "│ │ │ ├── is-alphabetical@1.0.4\n",
      "│ │ │ ├── is-decimal@1.0.4\n",
      "│ │ │ ├── is-whitespace-character@1.0.4\n",
      "│ │ │ ├── is-word-character@1.0.4\n",
      "│ │ │ ├── markdown-escapes@1.0.4\n",
      "│ │ │ ├─┬ parse-entities@1.2.2\n",
      "│ │ │ │ ├── character-entities@1.2.4\n",
      "│ │ │ │ ├── character-entities-legacy@1.1.4\n",
      "│ │ │ │ ├── character-reference-invalid@1.1.4\n",
      "│ │ │ │ ├─┬ is-alphanumerical@1.0.4\n",
      "│ │ │ │ │ ├── is-alphabetical@1.0.4 deduped\n",
      "│ │ │ │ │ └── is-decimal@1.0.4 deduped\n",
      "│ │ │ │ ├── is-decimal@1.0.4 deduped\n",
      "│ │ │ │ └── is-hexadecimal@1.0.4\n",
      "│ │ │ ├── repeat-string@1.6.1\n",
      "│ │ │ ├── state-toggle@1.0.3\n",
      "│ │ │ ├── trim@0.0.1\n",
      "│ │ │ ├── trim-trailing-lines@1.1.4\n",
      "│ │ │ ├─┬ unherit@1.1.3\n",
      "│ │ │ │ ├── inherits@2.0.4 deduped\n",
      "│ │ │ │ └── xtend@4.0.2 deduped\n",
      "│ │ │ ├─┬ unist-util-remove-position@1.1.4\n",
      "│ │ │ │ └─┬ unist-util-visit@1.4.1\n",
      "│ │ │ │   └─┬ unist-util-visit-parents@2.1.2\n",
      "│ │ │ │     └── unist-util-is@3.0.0\n",
      "│ │ │ ├── vfile-location@2.0.6\n",
      "│ │ │ └── xtend@4.0.2 deduped\n",
      "│ │ ├─┬ structured-source@3.0.2\n",
      "│ │ │ └── boundary@1.0.1\n",
      "│ │ ├── traverse@0.6.6\n",
      "│ │ └─┬ unified@6.2.0\n",
      "│ │   ├── bail@1.0.5\n",
      "│ │   ├── extend@3.0.2\n",
      "│ │   ├── is-plain-obj@1.1.0\n",
      "│ │   ├── trough@1.0.5\n",
      "│ │   ├─┬ vfile@2.3.0\n",
      "│ │   │ ├── is-buffer@1.1.6\n",
      "│ │   │ ├── replace-ext@1.0.0\n",
      "│ │   │ ├── unist-util-stringify-position@1.1.2\n",
      "│ │   │ └─┬ vfile-message@1.1.1\n",
      "│ │   │   └── unist-util-stringify-position@1.1.2 deduped\n",
      "│ │   └── x-is-string@0.1.0\n",
      "│ ├─┬ anchor-markdown-header@0.5.7\n",
      "│ │ └── emoji-regex@6.1.3\n",
      "│ ├─┬ htmlparser2@4.1.0\n",
      "│ │ ├── domelementtype@2.1.0\n",
      "│ │ ├─┬ domhandler@3.3.0\n",
      "│ │ │ └── domelementtype@2.1.0 deduped\n",
      "│ │ ├─┬ domutils@2.4.4\n",
      "│ │ │ ├─┬ dom-serializer@1.2.0\n",
      "│ │ │ │ ├── domelementtype@2.1.0 deduped\n",
      "│ │ │ │ ├─┬ domhandler@4.0.0\n",
      "│ │ │ │ │ └── domelementtype@2.1.0 deduped\n",
      "│ │ │ │ └── entities@2.1.0 deduped\n",
      "│ │ │ ├── domelementtype@2.1.0 deduped\n",
      "│ │ │ └─┬ domhandler@4.0.0\n",
      "│ │ │   └── domelementtype@2.1.0 deduped\n",
      "│ │ └── entities@2.1.0\n",
      "│ ├── minimist@1.2.5\n",
      "│ ├── underscore@1.10.2\n",
      "│ └── update-section@0.3.3\n",
      "├─┬ eslint@7.16.0\n",
      "│ ├─┬ @babel/code-frame@7.12.11\n",
      "│ │ └─┬ @babel/highlight@7.10.4\n",
      "│ │   ├── @babel/helper-validator-identifier@7.12.11\n",
      "│ │   ├─┬ chalk@2.4.2\n",
      "│ │   │ ├─┬ ansi-styles@3.2.1\n",
      "│ │   │ │ └─┬ color-convert@1.9.3\n",
      "│ │   │ │   └── color-name@1.1.3\n",
      "│ │   │ ├── escape-string-regexp@1.0.5\n",
      "│ │   │ └─┬ supports-color@5.5.0\n",
      "│ │   │   └── has-flag@3.0.0\n",
      "│ │   └── js-tokens@4.0.0\n",
      "│ ├─┬ @eslint/eslintrc@0.2.2\n",
      "│ │ ├── ajv@6.12.6 deduped\n",
      "│ │ ├── debug@4.2.0 deduped\n",
      "│ │ ├── espree@7.3.1 deduped\n",
      "│ │ ├── globals@12.4.0 deduped\n",
      "│ │ ├── ignore@4.0.6 deduped\n",
      "│ │ ├── import-fresh@3.3.0 deduped\n",
      "│ │ ├── js-yaml@3.14.0 deduped\n",
      "│ │ ├── lodash@4.17.20 deduped\n",
      "│ │ ├── minimatch@3.0.4 deduped\n",
      "│ │ └── strip-json-comments@3.1.1 deduped\n",
      "│ ├─┬ ajv@6.12.6\n",
      "│ │ ├── fast-deep-equal@3.1.3\n",
      "│ │ ├── fast-json-stable-stringify@2.1.0\n",
      "│ │ ├── json-schema-traverse@0.4.1\n",
      "│ │ └─┬ uri-js@4.4.0\n",
      "│ │   └── punycode@2.1.1\n",
      "│ ├─┬ chalk@4.1.0\n",
      "│ │ ├─┬ ansi-styles@4.3.0\n",
      "│ │ │ └─┬ color-convert@2.0.1\n",
      "│ │ │   └── color-name@1.1.4\n",
      "│ │ └── supports-color@7.2.0 deduped\n",
      "│ ├─┬ cross-spawn@7.0.3\n",
      "│ │ ├── path-key@3.1.1\n",
      "│ │ ├─┬ shebang-command@2.0.0\n",
      "│ │ │ └── shebang-regex@3.0.0\n",
      "│ │ └── which@2.0.2 deduped\n",
      "│ ├─┬ debug@4.2.0\n",
      "│ │ └── ms@2.1.2 deduped\n",
      "│ ├─┬ doctrine@3.0.0\n",
      "│ │ └── esutils@2.0.3 deduped\n",
      "│ ├─┬ enquirer@2.3.6\n",
      "│ │ └── ansi-colors@4.1.1 deduped\n",
      "│ ├─┬ eslint-scope@5.1.1\n",
      "│ │ ├─┬ esrecurse@4.3.0\n",
      "│ │ │ └── estraverse@5.2.0\n",
      "│ │ └── estraverse@4.3.0\n",
      "│ ├─┬ eslint-utils@2.1.0\n",
      "│ │ └── eslint-visitor-keys@1.3.0\n",
      "│ ├── eslint-visitor-keys@2.0.0\n",
      "│ ├─┬ espree@7.3.1\n",
      "│ │ ├── acorn@7.4.1\n",
      "│ │ ├── acorn-jsx@5.3.1\n",
      "│ │ └── eslint-visitor-keys@1.3.0\n",
      "│ ├─┬ esquery@1.3.1\n",
      "│ │ └── estraverse@5.2.0\n",
      "│ ├── esutils@2.0.3\n",
      "│ ├─┬ file-entry-cache@6.0.0\n",
      "│ │ └─┬ flat-cache@3.0.4\n",
      "│ │   ├── flatted@3.1.0\n",
      "│ │   └── rimraf@3.0.2 deduped\n",
      "│ ├── functional-red-black-tree@1.0.1\n",
      "│ ├─┬ glob-parent@5.1.1\n",
      "│ │ └── is-glob@4.0.1 deduped\n",
      "│ ├─┬ globals@12.4.0\n",
      "│ │ └── type-fest@0.8.1\n",
      "│ ├── ignore@4.0.6\n",
      "│ ├─┬ import-fresh@3.3.0\n",
      "│ │ ├─┬ parent-module@1.0.1\n",
      "│ │ │ └── callsites@3.1.0\n",
      "│ │ └── resolve-from@4.0.0\n",
      "│ ├── imurmurhash@0.1.4\n",
      "│ ├─┬ is-glob@4.0.1\n",
      "│ │ └── is-extglob@2.1.1\n",
      "│ ├─┬ js-yaml@3.14.0\n",
      "│ │ ├─┬ argparse@1.0.10\n",
      "│ │ │ └── sprintf-js@1.0.3\n",
      "│ │ └── esprima@4.0.1\n",
      "│ ├── json-stable-stringify-without-jsonify@1.0.1\n",
      "│ ├─┬ levn@0.4.1\n",
      "│ │ ├── prelude-ls@1.2.1\n",
      "│ │ └─┬ type-check@0.4.0\n",
      "│ │   └── prelude-ls@1.2.1 deduped\n",
      "│ ├── lodash@4.17.20\n",
      "│ ├─┬ minimatch@3.0.4\n",
      "│ │ └─┬ brace-expansion@1.1.11\n",
      "│ │   ├── balanced-match@1.0.0\n",
      "│ │   └── concat-map@0.0.1\n",
      "│ ├── natural-compare@1.4.0\n",
      "│ ├─┬ optionator@0.9.1\n",
      "│ │ ├── deep-is@0.1.3\n",
      "│ │ ├── fast-levenshtein@2.0.6\n",
      "│ │ ├── levn@0.4.1 deduped\n",
      "│ │ ├── prelude-ls@1.2.1 deduped\n",
      "│ │ ├── type-check@0.4.0 deduped\n",
      "│ │ └── word-wrap@1.2.3\n",
      "│ ├── progress@2.0.3\n",
      "│ ├── regexpp@3.1.0\n",
      "│ ├─┬ semver@7.3.4\n",
      "│ │ └─┬ lru-cache@6.0.0\n",
      "│ │   └── yallist@4.0.0\n",
      "│ ├─┬ strip-ansi@6.0.0\n",
      "│ │ └── ansi-regex@5.0.0\n",
      "│ ├── strip-json-comments@3.1.1\n",
      "│ ├─┬ table@6.0.4\n",
      "│ │ ├── ajv@6.12.6 deduped\n",
      "│ │ ├── lodash@4.17.20 deduped\n",
      "│ │ ├─┬ slice-ansi@4.0.0\n",
      "│ │ │ ├── ansi-styles@4.3.0 deduped\n",
      "│ │ │ ├── astral-regex@2.0.0\n",
      "│ │ │ └── is-fullwidth-code-point@3.0.0\n",
      "│ │ └─┬ string-width@4.2.0\n",
      "│ │   ├── emoji-regex@8.0.0\n",
      "│ │   ├── is-fullwidth-code-point@3.0.0\n",
      "│ │   └─┬ strip-ansi@6.0.0\n",
      "│ │     └── ansi-regex@5.0.0\n",
      "│ ├── text-table@0.2.0\n",
      "│ └── v8-compile-cache@2.2.0\n",
      "├─┬ eslint-plugin-jsdoc@30.7.9\n",
      "│ ├── comment-parser@0.7.6\n",
      "│ ├─┬ debug@4.3.1\n",
      "│ │ └── ms@2.1.2 deduped\n",
      "│ ├── jsdoctypeparser@9.0.0\n",
      "│ ├── lodash@4.17.20 deduped\n",
      "│ ├── regextras@0.7.1\n",
      "│ ├── semver@7.3.4 deduped\n",
      "│ └─┬ spdx-expression-parse@3.0.1\n",
      "│   ├── spdx-exceptions@2.3.0\n",
      "│   └── spdx-license-ids@3.0.7\n",
      "├─┬ eslint-plugin-mocha@8.0.0\n",
      "│ ├── eslint-utils@2.1.0 deduped\n",
      "│ └── ramda@0.27.1\n",
      "├── eslint-plugin-old-c-programmer@1.0.1\n",
      "├─┬ mocha@8.2.1\n",
      "│ ├── @ungap/promise-all-settled@1.1.2\n",
      "│ ├── ansi-colors@4.1.1\n",
      "│ ├── browser-stdout@1.3.1\n",
      "│ ├─┬ chokidar@3.4.3\n",
      "│ │ ├─┬ anymatch@3.1.1\n",
      "│ │ │ ├── normalize-path@3.0.0 deduped\n",
      "│ │ │ └── picomatch@2.2.2\n",
      "│ │ ├─┬ braces@3.0.2\n",
      "│ │ │ └─┬ fill-range@7.0.1\n",
      "│ │ │   └─┬ to-regex-range@5.0.1\n",
      "│ │ │     └── is-number@7.0.0\n",
      "│ │ ├── fsevents@2.1.3\n",
      "│ │ ├── glob-parent@5.1.1 deduped\n",
      "│ │ ├─┬ is-binary-path@2.1.0\n",
      "│ │ │ └── binary-extensions@2.1.0\n",
      "│ │ ├── is-glob@4.0.1 deduped\n",
      "│ │ ├── normalize-path@3.0.0\n",
      "│ │ └─┬ readdirp@3.5.0\n",
      "│ │   └── picomatch@2.2.2 deduped\n",
      "│ ├── debug@4.2.0 deduped\n",
      "│ ├── diff@4.0.2\n",
      "│ ├── escape-string-regexp@4.0.0\n",
      "│ ├─┬ find-up@5.0.0\n",
      "│ │ ├─┬ locate-path@6.0.0\n",
      "│ │ │ └─┬ p-locate@5.0.0\n",
      "│ │ │   └─┬ p-limit@3.1.0\n",
      "│ │ │     └── yocto-queue@0.1.0\n",
      "│ │ └── path-exists@4.0.0\n",
      "│ ├─┬ glob@7.1.6\n",
      "│ │ ├── fs.realpath@1.0.0\n",
      "│ │ ├─┬ inflight@1.0.6\n",
      "│ │ │ ├── once@1.4.0 deduped\n",
      "│ │ │ └── wrappy@1.0.2\n",
      "│ │ ├── inherits@2.0.4\n",
      "│ │ ├── minimatch@3.0.4 deduped\n",
      "│ │ ├─┬ once@1.4.0\n",
      "│ │ │ └── wrappy@1.0.2 deduped\n",
      "│ │ └── path-is-absolute@1.0.1\n",
      "│ ├── growl@1.10.5\n",
      "│ ├── he@1.2.0\n",
      "│ ├── js-yaml@3.14.0 deduped\n",
      "│ ├─┬ log-symbols@4.0.0\n",
      "│ │ └── chalk@4.1.0 deduped\n",
      "│ ├── minimatch@3.0.4 deduped\n",
      "│ ├── ms@2.1.2\n",
      "│ ├── nanoid@3.1.12\n",
      "│ ├─┬ serialize-javascript@5.0.1\n",
      "│ │ └─┬ randombytes@2.1.0\n",
      "│ │   └── safe-buffer@5.2.1\n",
      "│ ├── strip-json-comments@3.1.1 deduped\n",
      "│ ├─┬ supports-color@7.2.0\n",
      "│ │ └── has-flag@4.0.0\n",
      "│ ├─┬ which@2.0.2\n",
      "│ │ └── isexe@2.0.0\n",
      "│ ├─┬ wide-align@1.1.3\n",
      "│ │ └─┬ string-width@2.1.1\n",
      "│ │   ├── is-fullwidth-code-point@2.0.0\n",
      "│ │   └─┬ strip-ansi@4.0.0\n",
      "│ │     └── ansi-regex@3.0.0\n",
      "│ ├── workerpool@6.0.2\n",
      "│ ├─┬ yargs@13.3.2\n",
      "│ │ ├─┬ cliui@5.0.0\n",
      "│ │ │ ├─┬ string-width@3.1.0\n",
      "│ │ │ │ ├── emoji-regex@7.0.3 deduped\n",
      "│ │ │ │ ├── is-fullwidth-code-point@2.0.0 deduped\n",
      "│ │ │ │ └── strip-ansi@5.2.0 deduped\n",
      "│ │ │ ├─┬ strip-ansi@5.2.0\n",
      "│ │ │ │ └── ansi-regex@4.1.0\n",
      "│ │ │ └─┬ wrap-ansi@5.1.0\n",
      "│ │ │   ├─┬ ansi-styles@3.2.1\n",
      "│ │ │   │ └─┬ color-convert@1.9.3\n",
      "│ │ │   │   └── color-name@1.1.3\n",
      "│ │ │   ├─┬ string-width@3.1.0\n",
      "│ │ │   │ ├── emoji-regex@7.0.3 deduped\n",
      "│ │ │   │ ├── is-fullwidth-code-point@2.0.0 deduped\n",
      "│ │ │   │ └── strip-ansi@5.2.0 deduped\n",
      "│ │ │   └─┬ strip-ansi@5.2.0\n",
      "│ │ │     └── ansi-regex@4.1.0\n",
      "│ │ ├─┬ find-up@3.0.0\n",
      "│ │ │ └─┬ locate-path@3.0.0\n",
      "│ │ │   ├─┬ p-locate@3.0.0\n",
      "│ │ │   │ └─┬ p-limit@2.3.0\n",
      "│ │ │   │   └── p-try@2.2.0 deduped\n",
      "│ │ │   └── path-exists@3.0.0\n",
      "│ │ ├── get-caller-file@2.0.5\n",
      "│ │ ├── require-directory@2.1.1\n",
      "│ │ ├── require-main-filename@2.0.0\n",
      "│ │ ├── set-blocking@2.0.0\n",
      "│ │ ├─┬ string-width@3.1.0\n",
      "│ │ │ ├── emoji-regex@7.0.3\n",
      "│ │ │ ├── is-fullwidth-code-point@2.0.0 deduped\n",
      "│ │ │ └─┬ strip-ansi@5.2.0\n",
      "│ │ │   └── ansi-regex@4.1.0\n",
      "│ │ ├── which-module@2.0.0\n",
      "│ │ ├── y18n@4.0.1\n",
      "│ │ └── yargs-parser@13.1.2 deduped\n",
      "│ ├─┬ yargs-parser@13.1.2\n",
      "│ │ ├── camelcase@5.3.1\n",
      "│ │ └── decamelize@1.2.0 deduped\n",
      "│ └─┬ yargs-unparser@2.0.0\n",
      "│   ├── camelcase@6.2.0\n",
      "│   ├── decamelize@4.0.0\n",
      "│   ├── flat@5.0.2\n",
      "│   └── is-plain-obj@2.1.0\n",
      "├─┬ mock-spawn@0.2.6\n",
      "│ └── through@2.3.8\n",
      "├── mockery@2.1.0\n",
      "├─┬ nyc@15.1.0\n",
      "│ ├─┬ @istanbuljs/load-nyc-config@1.1.0\n",
      "│ │ ├── camelcase@5.3.1 deduped\n",
      "│ │ ├─┬ find-up@4.1.0\n",
      "│ │ │ ├─┬ locate-path@5.0.0\n",
      "│ │ │ │ └─┬ p-locate@4.1.0\n",
      "│ │ │ │   └─┬ p-limit@2.3.0\n",
      "│ │ │ │     └── p-try@2.2.0 deduped\n",
      "│ │ │ └── path-exists@4.0.0 deduped\n",
      "│ │ ├── get-package-type@0.1.0 deduped\n",
      "│ │ ├── js-yaml@3.14.0 deduped\n",
      "│ │ └── resolve-from@5.0.0\n",
      "│ ├── @istanbuljs/schema@0.1.2\n",
      "│ ├─┬ caching-transform@4.0.0\n",
      "│ │ ├─┬ hasha@5.2.2\n",
      "│ │ │ ├── is-stream@2.0.0\n",
      "│ │ │ └── type-fest@0.8.1 deduped\n",
      "│ │ ├── make-dir@3.1.0 deduped\n",
      "│ │ ├─┬ package-hash@4.0.0\n",
      "│ │ │ ├── graceful-fs@4.2.4\n",
      "│ │ │ ├── hasha@5.2.2 deduped\n",
      "│ │ │ ├── lodash.flattendeep@4.4.0\n",
      "│ │ │ └─┬ release-zalgo@1.0.0\n",
      "│ │ │   └── es6-error@4.1.1\n",
      "│ │ └─┬ write-file-atomic@3.0.3\n",
      "│ │   ├── imurmurhash@0.1.4 deduped\n",
      "│ │   ├── is-typedarray@1.0.0\n",
      "│ │   ├── signal-exit@3.0.3 deduped\n",
      "│ │   └─┬ typedarray-to-buffer@3.1.5\n",
      "│ │     └── is-typedarray@1.0.0 deduped\n",
      "│ ├─┬ convert-source-map@1.7.0\n",
      "│ │ └── safe-buffer@5.1.2\n",
      "│ ├── decamelize@1.2.0\n",
      "│ ├─┬ find-cache-dir@3.3.1\n",
      "│ │ ├── commondir@1.0.1\n",
      "│ │ ├── make-dir@3.1.0 deduped\n",
      "│ │ └─┬ pkg-dir@4.2.0\n",
      "│ │   └─┬ find-up@4.1.0\n",
      "│ │     ├─┬ locate-path@5.0.0\n",
      "│ │     │ └─┬ p-locate@4.1.0\n",
      "│ │     │   └─┬ p-limit@2.3.0\n",
      "│ │     │     └── p-try@2.2.0 deduped\n",
      "│ │     └── path-exists@4.0.0 deduped\n",
      "│ ├─┬ find-up@4.1.0\n",
      "│ │ ├─┬ locate-path@5.0.0\n",
      "│ │ │ └─┬ p-locate@4.1.0\n",
      "│ │ │   └─┬ p-limit@2.3.0\n",
      "│ │ │     └── p-try@2.2.0\n",
      "│ │ └── path-exists@4.0.0 deduped\n",
      "│ ├─┬ foreground-child@2.0.0\n",
      "│ │ ├── cross-spawn@7.0.3 deduped\n",
      "│ │ └── signal-exit@3.0.3 deduped\n",
      "│ ├── get-package-type@0.1.0\n",
      "│ ├── glob@7.1.6 deduped\n",
      "│ ├── istanbul-lib-coverage@3.0.0\n",
      "│ ├─┬ istanbul-lib-hook@3.0.0\n",
      "│ │ └─┬ append-transform@2.0.0\n",
      "│ │   └─┬ default-require-extensions@3.0.0\n",
      "│ │     └── strip-bom@4.0.0\n",
      "│ ├─┬ istanbul-lib-instrument@4.0.3\n",
      "│ │ ├─┬ @babel/core@7.12.10\n",
      "│ │ │ ├── @babel/code-frame@7.12.11 deduped\n",
      "│ │ │ ├─┬ @babel/generator@7.12.11\n",
      "│ │ │ │ ├── @babel/types@7.12.12 deduped\n",
      "│ │ │ │ ├── jsesc@2.5.2\n",
      "│ │ │ │ └── source-map@0.5.7 deduped\n",
      "│ │ │ ├─┬ @babel/helper-module-transforms@7.12.1\n",
      "│ │ │ │ ├─┬ @babel/helper-module-imports@7.12.5\n",
      "│ │ │ │ │ └── @babel/types@7.12.12 deduped\n",
      "│ │ │ │ ├─┬ @babel/helper-replace-supers@7.12.11\n",
      "│ │ │ │ │ ├─┬ @babel/helper-member-expression-to-functions@7.12.7\n",
      "│ │ │ │ │ │ └── @babel/types@7.12.12 deduped\n",
      "│ │ │ │ │ ├─┬ @babel/helper-optimise-call-expression@7.12.10\n",
      "│ │ │ │ │ │ └── @babel/types@7.12.12 deduped\n",
      "│ │ │ │ │ ├── @babel/traverse@7.12.12 deduped\n",
      "│ │ │ │ │ └── @babel/types@7.12.12 deduped\n",
      "│ │ │ │ ├─┬ @babel/helper-simple-access@7.12.1\n",
      "│ │ │ │ │ └── @babel/types@7.12.12 deduped\n",
      "│ │ │ │ ├─┬ @babel/helper-split-export-declaration@7.12.11\n",
      "│ │ │ │ │ └── @babel/types@7.12.12 deduped\n",
      "│ │ │ │ ├── @babel/helper-validator-identifier@7.12.11 deduped\n",
      "│ │ │ │ ├── @babel/template@7.12.7 deduped\n",
      "│ │ │ │ ├── @babel/traverse@7.12.12 deduped\n"
     ]
    },
    {
     "name": "stdout",
     "output_type": "stream",
     "text": [
      "│ │ │ │ ├── @babel/types@7.12.12 deduped\n",
      "│ │ │ │ └── lodash@4.17.20 deduped\n",
      "│ │ │ ├─┬ @babel/helpers@7.12.5\n",
      "│ │ │ │ ├── @babel/template@7.12.7 deduped\n",
      "│ │ │ │ ├── @babel/traverse@7.12.12 deduped\n",
      "│ │ │ │ └── @babel/types@7.12.12 deduped\n",
      "│ │ │ ├── @babel/parser@7.12.11\n",
      "│ │ │ ├─┬ @babel/template@7.12.7\n",
      "│ │ │ │ ├── @babel/code-frame@7.12.11 deduped\n",
      "│ │ │ │ ├── @babel/parser@7.12.11 deduped\n",
      "│ │ │ │ └── @babel/types@7.12.12 deduped\n",
      "│ │ │ ├─┬ @babel/traverse@7.12.12\n",
      "│ │ │ │ ├── @babel/code-frame@7.12.11 deduped\n",
      "│ │ │ │ ├── @babel/generator@7.12.11 deduped\n",
      "│ │ │ │ ├─┬ @babel/helper-function-name@7.12.11\n",
      "│ │ │ │ │ ├─┬ @babel/helper-get-function-arity@7.12.10\n",
      "│ │ │ │ │ │ └── @babel/types@7.12.12 deduped\n",
      "│ │ │ │ │ ├── @babel/template@7.12.7 deduped\n",
      "│ │ │ │ │ └── @babel/types@7.12.12 deduped\n",
      "│ │ │ │ ├── @babel/helper-split-export-declaration@7.12.11 deduped\n",
      "│ │ │ │ ├── @babel/parser@7.12.11 deduped\n",
      "│ │ │ │ ├── @babel/types@7.12.12 deduped\n",
      "│ │ │ │ ├── debug@4.2.0 deduped\n",
      "│ │ │ │ ├── globals@11.12.0\n",
      "│ │ │ │ └── lodash@4.17.20 deduped\n",
      "│ │ │ ├─┬ @babel/types@7.12.12\n",
      "│ │ │ │ ├── @babel/helper-validator-identifier@7.12.11 deduped\n",
      "│ │ │ │ ├── lodash@4.17.20 deduped\n",
      "│ │ │ │ └── to-fast-properties@2.0.0\n",
      "│ │ │ ├── convert-source-map@1.7.0 deduped\n",
      "│ │ │ ├── debug@4.2.0 deduped\n",
      "│ │ │ ├── gensync@1.0.0-beta.2\n",
      "│ │ │ ├─┬ json5@2.1.3\n",
      "│ │ │ │ └── minimist@1.2.5 deduped\n",
      "│ │ │ ├── lodash@4.17.20 deduped\n",
      "│ │ │ ├── semver@5.7.1\n",
      "│ │ │ └── source-map@0.5.7\n",
      "│ │ ├── @istanbuljs/schema@0.1.2 deduped\n",
      "│ │ ├── istanbul-lib-coverage@3.0.0 deduped\n",
      "│ │ └── semver@6.3.0\n",
      "│ ├─┬ istanbul-lib-processinfo@2.0.2\n",
      "│ │ ├── archy@1.0.0\n",
      "│ │ ├── cross-spawn@7.0.3 deduped\n",
      "│ │ ├── istanbul-lib-coverage@3.0.0 deduped\n",
      "│ │ ├── make-dir@3.1.0 deduped\n",
      "│ │ ├── p-map@3.0.0 deduped\n",
      "│ │ ├── rimraf@3.0.2 deduped\n",
      "│ │ └── uuid@3.4.0\n",
      "│ ├─┬ istanbul-lib-report@3.0.0\n",
      "│ │ ├── istanbul-lib-coverage@3.0.0 deduped\n",
      "│ │ ├── make-dir@3.1.0 deduped\n",
      "│ │ └── supports-color@7.2.0 deduped\n",
      "│ ├─┬ istanbul-lib-source-maps@4.0.0\n",
      "│ │ ├── debug@4.2.0 deduped\n",
      "│ │ ├── istanbul-lib-coverage@3.0.0 deduped\n",
      "│ │ └── source-map@0.6.1\n",
      "│ ├─┬ istanbul-reports@3.0.2\n",
      "│ │ ├── html-escaper@2.0.2\n",
      "│ │ └── istanbul-lib-report@3.0.0 deduped\n",
      "│ ├─┬ make-dir@3.1.0\n",
      "│ │ └── semver@6.3.0\n",
      "│ ├─┬ node-preload@0.2.1\n",
      "│ │ └── process-on-spawn@1.0.0 deduped\n",
      "│ ├─┬ p-map@3.0.0\n",
      "│ │ └─┬ aggregate-error@3.1.0\n",
      "│ │   ├── clean-stack@2.2.0\n",
      "│ │   └── indent-string@4.0.0\n",
      "│ ├─┬ process-on-spawn@1.0.0\n",
      "│ │ └── fromentries@1.3.2\n",
      "│ ├── resolve-from@5.0.0\n",
      "│ ├─┬ rimraf@3.0.2\n",
      "│ │ └── glob@7.1.6 deduped\n",
      "│ ├── signal-exit@3.0.3\n",
      "│ ├─┬ spawn-wrap@2.0.0\n",
      "│ │ ├── foreground-child@2.0.0 deduped\n",
      "│ │ ├── is-windows@1.0.2\n",
      "│ │ ├── make-dir@3.1.0 deduped\n",
      "│ │ ├── rimraf@3.0.2 deduped\n",
      "│ │ ├── signal-exit@3.0.3 deduped\n",
      "│ │ └── which@2.0.2 deduped\n",
      "│ ├─┬ test-exclude@6.0.0\n",
      "│ │ ├── @istanbuljs/schema@0.1.2 deduped\n",
      "│ │ ├── glob@7.1.6 deduped\n",
      "│ │ └── minimatch@3.0.4 deduped\n",
      "│ └─┬ yargs@15.4.1\n",
      "│   ├─┬ cliui@6.0.0\n",
      "│   │ ├── string-width@4.2.0 deduped\n",
      "│   │ ├─┬ strip-ansi@6.0.0\n",
      "│   │ │ └── ansi-regex@5.0.0\n",
      "│   │ └─┬ wrap-ansi@6.2.0\n",
      "│   │   ├── ansi-styles@4.3.0 deduped\n",
      "│   │   ├── string-width@4.2.0 deduped\n",
      "│   │   └── strip-ansi@6.0.0 deduped\n",
      "│   ├── decamelize@1.2.0 deduped\n",
      "│   ├── find-up@4.1.0 deduped\n",
      "│   ├── get-caller-file@2.0.5 deduped\n",
      "│   ├── require-directory@2.1.1 deduped\n",
      "│   ├── require-main-filename@2.0.0 deduped\n",
      "│   ├── set-blocking@2.0.0 deduped\n",
      "│   ├─┬ string-width@4.2.0\n",
      "│   │ ├── emoji-regex@8.0.0\n",
      "│   │ ├── is-fullwidth-code-point@3.0.0\n",
      "│   │ └── strip-ansi@6.0.0 deduped\n",
      "│   ├── which-module@2.0.0 deduped\n",
      "│   ├── y18n@4.0.1 deduped\n",
      "│   └─┬ yargs-parser@18.1.3\n",
      "│     ├── camelcase@5.3.1 deduped\n",
      "│     └── decamelize@1.2.0 deduped\n",
      "├─┬ std-mocks@1.0.1\n",
      "│ └── lodash@4.17.20 deduped\n",
      "└─┬ tmp@0.2.1\n",
      "  └── rimraf@3.0.2 deduped\n",
      "\n",
      "[ process 'npm ls' exited with code 0 ]\n"
     ]
    },
    {
     "data": {
      "text/plain": [
       "0"
      ]
     },
     "execution_count": 10,
     "metadata": {},
     "output_type": "execute_result"
    }
   ],
   "source": [
    "!npm ls"
   ]
  },
  {
   "cell_type": "markdown",
   "metadata": {},
   "source": [
    "## Var Assignment\n",
    "The output of %magic and !exec commands can be assigned to a variable for future reference."
   ]
  },
  {
   "cell_type": "code",
   "execution_count": 11,
   "metadata": {},
   "outputs": [
    {
     "name": "stdout",
     "output_type": "stream",
     "text": [
      "[ loading /Users/ampower/Projects/personal/magicpatch/test/helpers/testModule.js ]\n"
     ]
    }
   ],
   "source": [
    "let mod = %require ../test/helpers/testModule.js"
   ]
  },
  {
   "cell_type": "code",
   "execution_count": 12,
   "metadata": {},
   "outputs": [
    {
     "name": "stdout",
     "output_type": "stream",
     "text": [
      "Module is: { source: 'helpers/testModule.js', worked: true }\n"
     ]
    }
   ],
   "source": [
    "console.log(\"Module is:\", mod);"
   ]
  },
  {
   "cell_type": "code",
   "execution_count": 13,
   "metadata": {},
   "outputs": [
    {
     "ename": "ReferenceError",
     "evalue": "ret is not defined",
     "output_type": "error",
     "traceback": [
      "ReferenceError: ret is not defined",
      "    at /Users/ampower/Projects/personal/magicpatch/lib/interpreter.js:79:32",
      "    at processTicksAndRejections (internal/process/task_queues.js:93:5)"
     ]
    }
   ],
   "source": [
    "let dirListing = !ls -laF"
   ]
  },
  {
   "cell_type": "code",
   "execution_count": null,
   "metadata": {},
   "outputs": [],
   "source": []
  },
  {
   "cell_type": "markdown",
   "metadata": {},
   "source": [
    "##  {var} substitution"
   ]
  },
  {
   "cell_type": "markdown",
   "metadata": {},
   "source": [
    "Using {var} will be replaced with the variable `var`. "
   ]
  },
  {
   "cell_type": "code",
   "execution_count": 14,
   "metadata": {
    "scrolled": true
   },
   "outputs": [
    {
     "name": "stdout",
     "output_type": "stream",
     "text": [
      "42\n"
     ]
    }
   ],
   "source": [
    "x = 42\n",
    "%echo {x}"
   ]
  },
  {
   "cell_type": "code",
   "execution_count": 15,
   "metadata": {},
   "outputs": [
    {
     "name": "stdout",
     "output_type": "stream",
     "text": [
      "{ beer: 'yum' }\n"
     ]
    }
   ],
   "source": [
    "o = {\n",
    "    beer: \"yum\"\n",
    "}\n",
    "%echo {o}"
   ]
  },
  {
   "cell_type": "code",
   "execution_count": 16,
   "metadata": {},
   "outputs": [
    {
     "name": "stdout",
     "output_type": "stream",
     "text": [
      "x42o[object Object]\n"
     ]
    }
   ],
   "source": [
    "%echo x{x}o{o}"
   ]
  },
  {
   "cell_type": "markdown",
   "metadata": {},
   "source": [
    "## View Documentation\n",
    "`?` before or after a magic will show you it's documentation"
   ]
  },
  {
   "cell_type": "code",
   "execution_count": 18,
   "metadata": {},
   "outputs": [
    {
     "data": {
      "text/markdown": [
       "__%echo Documentation:__\n",
       "\n",
       "Usage: %echo &lt;string&gt;<br>\n",
       "<br>\n",
       "Write arguments to the standard output.<br>\n",
       "\n",
       "\n",
       "__File:__ /Users/ampower/Projects/personal/magicpatch/lib/builtin.js"
      ]
     },
     "execution_count": 17,
     "metadata": {},
     "output_type": "execute_result"
    }
   ],
   "source": [
    "?%echo"
   ]
  },
  {
   "cell_type": "code",
   "execution_count": 19,
   "metadata": {},
   "outputs": [
    {
     "data": {
      "text/markdown": [
       "__%echo Documentation:__\n",
       "\n",
       "Usage: %echo &lt;string&gt;<br>\n",
       "<br>\n",
       "Write arguments to the standard output.<br>\n",
       "\n",
       "\n",
       "__File:__ /Users/ampower/Projects/personal/magicpatch/lib/builtin.js"
      ]
     },
     "execution_count": 18,
     "metadata": {},
     "output_type": "execute_result"
    }
   ],
   "source": [
    "%echo?"
   ]
  },
  {
   "cell_type": "markdown",
   "metadata": {},
   "source": [
    "## View Code\n",
    "`??` before or after a magic will show you the code for the magic."
   ]
  },
  {
   "cell_type": "code",
   "execution_count": 20,
   "metadata": {},
   "outputs": [
    {
     "data": {
      "text/markdown": [
       "__%echo Source:__\n",
       "\n",
       "``` js\n",
       "function echo(cmd) {\n",
       "    console.log(this.varSubst(this.line.substring(this.startArgs)));\n",
       "}\n",
       "```\n",
       "\n",
       "__File:__ /Users/ampower/Projects/personal/magicpatch/lib/builtin.js"
      ]
     },
     "execution_count": 19,
     "metadata": {},
     "output_type": "execute_result"
    }
   ],
   "source": [
    "??%echo"
   ]
  },
  {
   "cell_type": "code",
   "execution_count": 21,
   "metadata": {},
   "outputs": [
    {
     "data": {
      "text/markdown": [
       "__%echo Source:__\n",
       "\n",
       "``` js\n",
       "function echo(cmd) {\n",
       "    console.log(this.varSubst(this.line.substring(this.startArgs)));\n",
       "}\n",
       "```\n",
       "\n",
       "__File:__ /Users/ampower/Projects/personal/magicpatch/lib/builtin.js"
      ]
     },
     "execution_count": 20,
     "metadata": {},
     "output_type": "execute_result"
    }
   ],
   "source": [
    "%echo??"
   ]
  },
  {
   "cell_type": "markdown",
   "metadata": {},
   "source": [
    "## Input Caching\n",
    "Previously run commands can be found in a few different ways. The last three commands are available in the global variables `_i`, `_ii`, and `_iii`. All previous commands can be found in the `In` or `_ih` arrays."
   ]
  },
  {
   "cell_type": "code",
   "execution_count": 21,
   "metadata": {},
   "outputs": [
    {
     "name": "stdout",
     "output_type": "stream",
     "text": [
      "var n = \"bob\";\n",
      "console.log(\"hi\", n);\n"
     ]
    }
   ],
   "source": [
    "console.log(In[0])"
   ]
  },
  {
   "cell_type": "code",
   "execution_count": 22,
   "metadata": {},
   "outputs": [
    {
     "name": "stdout",
     "output_type": "stream",
     "text": [
      "%echo hi there\n"
     ]
    }
   ],
   "source": [
    "console.log(In[1])"
   ]
  },
  {
   "cell_type": "code",
   "execution_count": 23,
   "metadata": {},
   "outputs": [
    {
     "name": "stdout",
     "output_type": "stream",
     "text": [
      "%echo hi there\n"
     ]
    }
   ],
   "source": [
    "console.log(_ih[1])"
   ]
  },
  {
   "cell_type": "code",
   "execution_count": 24,
   "metadata": {},
   "outputs": [
    {
     "name": "stdout",
     "output_type": "stream",
     "text": [
      "last input:\n",
      "console.log(_ih[1])\n",
      "\n",
      "second to last input:\n",
      "console.log(In[1])\n",
      "\n",
      "input before that:\n",
      "console.log(In[0])\n"
     ]
    }
   ],
   "source": [
    "console.log(\"last input:\\n\" + _i)\n",
    "console.log(\"\\nsecond to last input:\\n\" + _ii)\n",
    "console.log(\"\\ninput before that:\\n\" + _iii)"
   ]
  },
  {
   "cell_type": "markdown",
   "metadata": {},
   "source": [
    "## Output Caching\n",
    "The previous three output values are stored in `_`, `__`, and `___`."
   ]
  },
  {
   "cell_type": "code",
   "execution_count": 25,
   "metadata": {},
   "outputs": [
    {
     "data": {
      "text/plain": [
       "42"
      ]
     },
     "execution_count": 25,
     "metadata": {},
     "output_type": "execute_result"
    }
   ],
   "source": [
    "21 * 2"
   ]
  },
  {
   "cell_type": "code",
   "execution_count": 26,
   "metadata": {},
   "outputs": [
    {
     "data": {
      "text/plain": [
       "'foo'"
      ]
     },
     "execution_count": 26,
     "metadata": {},
     "output_type": "execute_result"
    }
   ],
   "source": [
    "\"f\" + \"oo\""
   ]
  },
  {
   "cell_type": "code",
   "execution_count": 27,
   "metadata": {},
   "outputs": [
    {
     "data": {
      "text/plain": [
       "1.5707963267948966"
      ]
     },
     "execution_count": 27,
     "metadata": {},
     "output_type": "execute_result"
    }
   ],
   "source": [
    "Math.PI / 2"
   ]
  },
  {
   "cell_type": "code",
   "execution_count": 28,
   "metadata": {},
   "outputs": [
    {
     "name": "stdout",
     "output_type": "stream",
     "text": [
      "last output: 1.5707963267948966\n",
      "second to last output: foo\n",
      "output before that: 42\n"
     ]
    }
   ],
   "source": [
    "console.log(\"last output:\", _)\n",
    "console.log(\"second to last output:\", __)\n",
    "console.log(\"output before that:\", ___)"
   ]
  },
  {
   "cell_type": "markdown",
   "metadata": {},
   "source": [
    "## Cell Magic\n",
    "Cell magics do something special with the entire Jupyter cell. For example, this `%%script` cell magic turns the entire shell into a bash script."
   ]
  },
  {
   "cell_type": "code",
   "execution_count": 29,
   "metadata": {},
   "outputs": [
    {
     "name": "stdout",
     "output_type": "stream",
     "text": [
      "loop 0\n",
      "loop 1\n",
      "loop 2\n",
      "loop 3\n",
      "loop 4\n",
      "loop 5\n",
      "loop 6\n",
      "loop 7\n",
      "loop 8\n",
      "loop 9\n",
      "[ process 'bash /var/folders/6j/bk9lpc4n057831vsshxv0_j8t5f96f/T/tmp-59830-lTZ9PAyBhqm7' exited with code 0 ]\n"
     ]
    },
    {
     "data": {
      "text/plain": [
       "0"
      ]
     },
     "execution_count": 29,
     "metadata": {},
     "output_type": "execute_result"
    }
   ],
   "source": [
    "%%script bash\n",
    "for ((i = 0; i < 10; i++)); do\n",
    "    echo \"loop $i\"\n",
    "done"
   ]
  },
  {
   "cell_type": "markdown",
   "metadata": {},
   "source": [
    "## stdmagic"
   ]
  },
  {
   "cell_type": "markdown",
   "metadata": {},
   "source": [
    "A use a set of magics from a library"
   ]
  },
  {
   "cell_type": "code",
   "execution_count": 30,
   "metadata": {},
   "outputs": [
    {
     "name": "stdout",
     "output_type": "stream",
     "text": [
      "[ loading /Users/ampower/Projects/personal/stdmagic/index.js ]\n"
     ]
    },
    {
     "data": {
      "text/plain": [
       "[\n",
       "  { name: '%%bash', fn: [Function: stub], stub: true, standard: true },\n",
       "  {\n",
       "    name: '%%capture',\n",
       "    fn: [Function: stub],\n",
       "    stub: true,\n",
       "    standard: true\n",
       "  },\n",
       "  { name: '%%debug', fn: [Function: stub], stub: true, standard: true },\n",
       "  { name: '%%file', fn: [Function: stub], stub: true, standard: true },\n",
       "  { name: '%%html', fn: [Function: stub], stub: true, standard: true },\n",
       "  { name: '%%HTML', fn: [Function: stub], stub: true, standard: true },\n",
       "  {\n",
       "    name: '%%javascript',\n",
       "    fn: [Function: stub],\n",
       "    stub: true,\n",
       "    standard: true\n",
       "  },\n",
       "  { name: '%%js', fn: [Function: stub], stub: true, standard: true },\n",
       "  { name: '%%latex', fn: [Function: stub], stub: true, standard: true },\n",
       "  {\n",
       "    name: '%%markdown',\n",
       "    fn: [Function: stub],\n",
       "    stub: true,\n",
       "    standard: true\n",
       "  },\n",
       "  { name: '%%perl', fn: [Function: stub], stub: true, standard: true },\n",
       "  { name: '%%prun', fn: [Function: stub], stub: true, standard: true },\n",
       "  { name: '%%pypy', fn: [Function: stub], stub: true, standard: true },\n",
       "  {\n",
       "    name: '%%python',\n",
       "    fn: [Function: stub],\n",
       "    stub: true,\n",
       "    standard: true\n",
       "  },\n",
       "  {\n",
       "    name: '%%python2',\n",
       "    fn: [Function: stub],\n",
       "    stub: true,\n",
       "    standard: true\n",
       "  },\n",
       "  {\n",
       "    name: '%%python3',\n",
       "    fn: [Function: stub],\n",
       "    stub: true,\n",
       "    standard: true\n",
       "  },\n",
       "  { name: '%%ruby', fn: [Function: stub], stub: true, standard: true },\n",
       "  {\n",
       "    name: '%%script',\n",
       "    fn: [Function: stub],\n",
       "    stub: true,\n",
       "    standard: true\n",
       "  },\n",
       "  { name: '%%sh', fn: [Function: stub], stub: true, standard: true },\n",
       "  { name: '%%svg', fn: [Function: stub], stub: true, standard: true },\n",
       "  { name: '%%SVG', fn: [Function: stub], stub: true, standard: true },\n",
       "  { name: '%%sx', fn: [Function: stub], stub: true, standard: true },\n",
       "  {\n",
       "    name: '%%system',\n",
       "    fn: [Function: stub],\n",
       "    stub: true,\n",
       "    standard: true\n",
       "  },\n",
       "  { name: '%%time', fn: [Function: stub], stub: true, standard: true },\n",
       "  {\n",
       "    name: '%%timeit',\n",
       "    fn: [Function: stub],\n",
       "    stub: true,\n",
       "    standard: true\n",
       "  },\n",
       "  {\n",
       "    name: '%%writefile',\n",
       "    fn: [Function: stub],\n",
       "    stub: true,\n",
       "    standard: true\n",
       "  },\n",
       "  { name: '%cd', fn: [Function: cd] },\n",
       "  { name: '%dhist', fn: [Function: stub], stub: true, standard: true },\n",
       "  { name: '%dirs', fn: [Function: stub], stub: true, standard: true },\n",
       "  { name: '%popd', fn: [Function: stub], stub: true, standard: true },\n",
       "  { name: '%pushd', fn: [Function: stub], stub: true, standard: true },\n",
       "  {\n",
       "    name: '%bookmark',\n",
       "    fn: [Function: stub],\n",
       "    stub: true,\n",
       "    standard: true\n",
       "  },\n",
       "  { name: '%lsmagic', fn: [Function: lsmagic], standard: true },\n",
       "  { name: '%history', fn: [Function: history], standard: true },\n",
       "  { name: '%hist', fn: [Function: history], standard: true },\n",
       "  {\n",
       "    name: '%alias_magic',\n",
       "    fn: [Function: stub],\n",
       "    stub: true,\n",
       "    standard: true\n",
       "  },\n",
       "  {\n",
       "    name: '%automagic',\n",
       "    fn: [Function: stub],\n",
       "    stub: true,\n",
       "    standard: true\n",
       "  },\n",
       "  {\n",
       "    name: '%autocall',\n",
       "    fn: [Function: stub],\n",
       "    stub: true,\n",
       "    standard: true\n",
       "  },\n",
       "  {\n",
       "    name: '%autosave',\n",
       "    fn: [Function: stub],\n",
       "    stub: true,\n",
       "    standard: true\n",
       "  },\n",
       "  { name: '%colors', fn: [Function: stub], stub: true, standard: true },\n",
       "  { name: '%config', fn: [Function: stub], stub: true, standard: true },\n",
       "  {\n",
       "    name: '%connect_info',\n",
       "    fn: [Function: stub],\n",
       "    stub: true,\n",
       "    standard: true\n",
       "  },\n",
       "  { name: '%macro', fn: [Function: stub], stub: true, standard: true },\n",
       "  { name: '%magic', fn: [Function: stub], stub: true, standard: true },\n",
       "  {\n",
       "    name: '%notebook',\n",
       "    fn: [Function: stub],\n",
       "    stub: true,\n",
       "    standard: true\n",
       "  },\n",
       "  {\n",
       "    name: '%pastebin',\n",
       "    fn: [Function: stub],\n",
       "    stub: true,\n",
       "    standard: true\n",
       "  },\n",
       "  { name: '%pprint', fn: [Function: stub], stub: true, standard: true },\n",
       "  {\n",
       "    name: '%precision',\n",
       "    fn: [Function: stub],\n",
       "    stub: true,\n",
       "    standard: true\n",
       "  },\n",
       "  { name: '%recall', fn: [Function: stub], stub: true, standard: true },\n",
       "  { name: '%rep', fn: [Function: stub], stub: true, standard: true },\n",
       "  { name: '%store', fn: [Function: stub], stub: true, standard: true },\n",
       "  { name: '%reset', fn: [Function: stub], stub: true, standard: true },\n",
       "  {\n",
       "    name: '%reset_selective',\n",
       "    fn: [Function: stub],\n",
       "    stub: true,\n",
       "    standard: true\n",
       "  },\n",
       "  { name: '%rerun', fn: [Function: stub], stub: true, standard: true },\n",
       "  { name: '%save', fn: [Function: stub], stub: true, standard: true },\n",
       "  { name: '%more', fn: [Function: stub], stub: true, standard: true },\n",
       "  { name: '%less', fn: [Function: stub], stub: true, standard: true },\n",
       "  { name: '%pfile', fn: [Function: stub], stub: true, standard: true },\n",
       "  {\n",
       "    name: '%psource',\n",
       "    fn: [Function: stub],\n",
       "    stub: true,\n",
       "    standard: true\n",
       "  },\n",
       "  { name: '%page', fn: [Function: stub], stub: true, standard: true },\n",
       "  { name: '%logoff', fn: [Function: stub], stub: true, standard: true },\n",
       "  { name: '%logon', fn: [Function: stub], stub: true, standard: true },\n",
       "  {\n",
       "    name: '%logstart',\n",
       "    fn: [Function: stub],\n",
       "    stub: true,\n",
       "    standard: true\n",
       "  },\n",
       "  {\n",
       "    name: '%logstate',\n",
       "    fn: [Function: stub],\n",
       "    stub: true,\n",
       "    standard: true\n",
       "  },\n",
       "  {\n",
       "    name: '%logstop',\n",
       "    fn: [Function: stub],\n",
       "    stub: true,\n",
       "    standard: true\n",
       "  },\n",
       "  { name: '%clear', fn: [Function: stub], stub: true, standard: true },\n",
       "  {\n",
       "    name: '%quickref',\n",
       "    fn: [Function: stub],\n",
       "    stub: true,\n",
       "    standard: true\n",
       "  },\n",
       "  { name: '%edit', fn: [Function: stub], stub: true, standard: true },\n",
       "  { name: '%ed', fn: [Function: stub], stub: true, standard: true },\n",
       "  { name: '%who', fn: [Function: who], standard: true },\n",
       "  { name: '%whos', fn: [Function: whos], standard: true },\n",
       "  { name: '%report', fn: [AsyncFunction: report], standard: false },\n",
       "  {\n",
       "    name: '%autoawait',\n",
       "    fn: [Function: stub],\n",
       "    stub: true,\n",
       "    standard: true\n",
       "  },\n",
       "  { name: '%debug', fn: [Function: stub], stub: true, standard: true },\n",
       "  {\n",
       "    name: '%killbgscripts',\n",
       "    fn: [Function: stub],\n",
       "    stub: true,\n",
       "    standard: true\n",
       "  },\n",
       "  { name: '%load', fn: [Function: stub], stub: true, standard: true },\n",
       "  { name: '%run', fn: [Function: stub], stub: true, standard: true },\n",
       "  { name: '%who_ls', fn: [Function: stub], stub: true, standard: true },\n",
       "  { name: '%xdel', fn: [Function: stub], stub: true, standard: true },\n",
       "  { name: '%pdef', fn: [Function: stub], stub: true, standard: true },\n",
       "  { name: '%pdoc', fn: [Function: stub], stub: true, standard: true },\n",
       "  { name: '%pinfo', fn: [Function: stub], stub: true, standard: true },\n",
       "  { name: '%pinfo2', fn: [Function: stub], stub: true, standard: true },\n",
       "  {\n",
       "    name: '%psearch',\n",
       "    fn: [Function: stub],\n",
       "    stub: true,\n",
       "    standard: true\n",
       "  },\n",
       "  { name: '%pip', fn: [Function: pip] },\n",
       "  { name: '%conda', fn: [Function: stub], stub: true, standard: true },\n",
       "  {\n",
       "    name: '%doctest_mode',\n",
       "    fn: [Function: stub],\n",
       "    stub: true,\n",
       "    standard: true\n",
       "  },\n",
       "  { name: '%gui', fn: [Function: stub], stub: true, standard: true },\n",
       "  {\n",
       "    name: '%matplotlib',\n",
       "    fn: [Function: stub],\n",
       "    stub: true,\n",
       "    standard: true\n",
       "  },\n",
       "  { name: '%prun', fn: [Function: stub], stub: true, standard: true },\n",
       "  { name: '%pdb', fn: [Function: stub], stub: true, standard: true },\n",
       "  { name: '%pycat', fn: [Function: stub], stub: true, standard: true },\n",
       "  { name: '%pylab', fn: [Function: stub], stub: true, standard: true },\n",
       "  {\n",
       "    name: '%qtconsole',\n",
       "    fn: [Function: stub],\n",
       "    stub: true,\n",
       "    standard: true\n",
       "  },\n",
       "  {\n",
       "    name: '%load_ext',\n",
       "    fn: [Function: stub],\n",
       "    stub: true,\n",
       "    standard: true\n",
       "  },\n",
       "  {\n",
       "    name: '%reload_ext',\n",
       "    fn: [Function: stub],\n",
       "    stub: true,\n",
       "    standard: true\n",
       "  },\n",
       "  {\n",
       "    name: '%unload_ext',\n",
       "    fn: [Function: stub],\n",
       "    stub: true,\n",
       "    standard: true\n",
       "  },\n",
       "  { name: '%loadpy', fn: [Function: stub], stub: true, standard: true },\n",
       "  { name: '%time', fn: [Function: stub], stub: true, standard: true },\n",
       "  { name: '%timeit', fn: [Function: stub], stub: true, standard: true },\n",
       "  ... 22 more items\n",
       "]"
      ]
     },
     "execution_count": 30,
     "metadata": {},
     "output_type": "execute_result"
    }
   ],
   "source": [
    "%require ../../stdmagic/index.js"
   ]
  },
  {
   "cell_type": "code",
   "execution_count": 31,
   "metadata": {},
   "outputs": [
    {
     "ename": "ReferenceError",
     "evalue": "ret is not defined",
     "output_type": "error",
     "traceback": [
      "ReferenceError: ret is not defined",
      "    at /Users/ampower/Projects/personal/magicpatch/lib/interpreter.js:79:32",
      "    at processTicksAndRejections (internal/process/task_queues.js:93:5)"
     ]
    }
   ],
   "source": [
    "%lsmagic"
   ]
  },
  {
   "cell_type": "code",
   "execution_count": 32,
   "metadata": {
    "scrolled": true
   },
   "outputs": [
    {
     "ename": "ReferenceError",
     "evalue": "ret is not defined",
     "output_type": "error",
     "traceback": [
      "ReferenceError: ret is not defined",
      "    at /Users/ampower/Projects/personal/magicpatch/lib/interpreter.js:79:32",
      "    at processTicksAndRejections (internal/process/task_queues.js:93:5)"
     ]
    }
   ],
   "source": [
    "%ls"
   ]
  },
  {
   "cell_type": "code",
   "execution_count": 33,
   "metadata": {},
   "outputs": [
    {
     "ename": "ReferenceError",
     "evalue": "ret is not defined",
     "output_type": "error",
     "traceback": [
      "ReferenceError: ret is not defined",
      "    at /Users/ampower/Projects/personal/magicpatch/lib/interpreter.js:79:32",
      "    at processTicksAndRejections (internal/process/task_queues.js:93:5)"
     ]
    }
   ],
   "source": [
    "%ls -laF"
   ]
  },
  {
   "cell_type": "code",
   "execution_count": 34,
   "metadata": {},
   "outputs": [
    {
     "ename": "ReferenceError",
     "evalue": "ret is not defined",
     "output_type": "error",
     "traceback": [
      "ReferenceError: ret is not defined",
      "    at /Users/ampower/Projects/personal/magicpatch/lib/interpreter.js:79:32",
      "    at processTicksAndRejections (internal/process/task_queues.js:93:5)"
     ]
    }
   ],
   "source": [
    "%who"
   ]
  },
  {
   "cell_type": "code",
   "execution_count": 35,
   "metadata": {},
   "outputs": [
    {
     "ename": "ReferenceError",
     "evalue": "ret is not defined",
     "output_type": "error",
     "traceback": [
      "ReferenceError: ret is not defined",
      "    at /Users/ampower/Projects/personal/magicpatch/lib/interpreter.js:79:32",
      "    at processTicksAndRejections (internal/process/task_queues.js:93:5)"
     ]
    }
   ],
   "source": [
    "%whos"
   ]
  }
 ],
 "metadata": {
  "kernelspec": {
   "display_name": "Javascript (Node.js)",
   "language": "javascript",
   "name": "javascript"
  },
  "language_info": {
   "file_extension": ".js",
   "mimetype": "application/javascript",
   "name": "javascript",
   "version": "14.8.0"
  },
  "toc": {
   "base_numbering": 1,
   "nav_menu": {},
   "number_sections": true,
   "sideBar": true,
   "skip_h1_title": false,
   "title_cell": "Table of Contents",
   "title_sidebar": "Contents",
   "toc_cell": false,
   "toc_position": {
    "height": "calc(100% - 180px)",
    "left": "10px",
    "top": "150px",
    "width": "336px"
   },
   "toc_section_display": true,
   "toc_window_display": true
  }
 },
 "nbformat": 4,
 "nbformat_minor": 4
}
