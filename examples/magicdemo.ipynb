{
 "cells": [
  {
   "cell_type": "markdown",
   "metadata": {},
   "source": [
    "# magicpatch demos"
   ]
  },
  {
   "cell_type": "markdown",
   "metadata": {},
   "source": [
    "## Still runs normal JavaScript"
   ]
  },
  {
   "cell_type": "code",
   "execution_count": 1,
   "metadata": {},
   "outputs": [
    {
     "name": "stdout",
     "output_type": "stream",
     "text": [
      "hi bob\n"
     ]
    }
   ],
   "source": [
    "var n = \"bob\";\n",
    "console.log(\"hi\", n);"
   ]
  },
  {
   "cell_type": "markdown",
   "metadata": {},
   "source": [
    "## %magic example\n",
    "Magicpatch adds [%magic commands](https://ipython.readthedocs.io/en/stable/interactive/magics.html) to IJavascript. Magics are intended to make development faster and easier. Here's a magic called %echo that does... pretty much what you would expect:"
   ]
  },
  {
   "cell_type": "code",
   "execution_count": 2,
   "metadata": {},
   "outputs": [
    {
     "name": "stdout",
     "output_type": "stream",
     "text": [
      "hi there\n"
     ]
    }
   ],
   "source": [
    "%echo hi there"
   ]
  },
  {
   "cell_type": "markdown",
   "metadata": {},
   "source": [
    "## %addmagic"
   ]
  },
  {
   "cell_type": "markdown",
   "metadata": {},
   "source": [
    "You can also add your own magics. The syntax is `%addcmd cmdname fnname`.  `cmdname` must start with a symbol like `%` or `.`, and `fnname` is a string that is the name of a function. `fnname` is not checked to see if it exists until the magic is called. If you want to create a npm module for adding magics, you can use the global method `$$.addMagic()`, which has the same syntax."
   ]
  },
  {
   "cell_type": "code",
   "execution_count": 3,
   "metadata": {},
   "outputs": [
    {
     "name": "stdout",
     "output_type": "stream",
     "text": [
      "[ added magic: '%foo' which will call function 'bar' ]\n"
     ]
    }
   ],
   "source": [
    "function bar() {\n",
    "    console.log(\"LETS ALL GO TO THE BAR\");\n",
    "}\n",
    "%addmagic %foo bar"
   ]
  },
  {
   "cell_type": "code",
   "execution_count": 4,
   "metadata": {},
   "outputs": [
    {
     "name": "stdout",
     "output_type": "stream",
     "text": [
      "LETS ALL GO TO THE BAR\n"
     ]
    }
   ],
   "source": [
    "%foo"
   ]
  },
  {
   "cell_type": "code",
   "execution_count": 5,
   "metadata": {},
   "outputs": [],
   "source": [
    "function sayMyName(cmd, name) {\n",
    "    console.log(\"my name is:\", name);\n",
    "}"
   ]
  },
  {
   "cell_type": "code",
   "execution_count": 6,
   "metadata": {},
   "outputs": [
    {
     "name": "stdout",
     "output_type": "stream",
     "text": [
      "[ added magic: '%name' which will call function 'sayMyName' ]\n"
     ]
    }
   ],
   "source": [
    "%addmagic %name sayMyName"
   ]
  },
  {
   "cell_type": "code",
   "execution_count": 7,
   "metadata": {},
   "outputs": [
    {
     "name": "stdout",
     "output_type": "stream",
     "text": [
      "my name is: mud\n"
     ]
    }
   ],
   "source": [
    "%name mud"
   ]
  },
  {
   "cell_type": "markdown",
   "metadata": {},
   "source": [
    "## !exec\n",
    "Lines that start with `!` will execute in the underlying shell."
   ]
  },
  {
   "cell_type": "code",
   "execution_count": 8,
   "metadata": {},
   "outputs": [
    {
     "name": "stdout",
     "output_type": "stream",
     "text": [
      "total 488\n",
      "drwxr-xr-x   8 ampower  staff     256 Dec 29 11:56 ./\n",
      "drwxr-xr-x  17 ampower  staff     544 Dec 29 09:20 ../\n",
      "-rw-r--r--@  1 ampower  staff    6148 Dec 29 08:58 .DS_Store\n",
      "drwxr-xr-x   5 ampower  staff     160 Dec 28 14:41 .ipynb_checkpoints/\n",
      "-rw-r--r--   1 ampower  staff    2419 Dec 29 11:23 Untitled.ipynb\n",
      "-rw-r--r--   1 ampower  staff   10204 Dec 29 07:54 Untitled1.ipynb\n",
      "-rw-r--r--   1 ampower  staff   30799 Dec 29 11:56 magicdemo.ipynb\n",
      "-rw-r--r--@  1 ampower  staff  190387 Dec 29 08:56 quickDemo.png\n",
      "[ process 'ls -laF' exited with code 0 ]\n"
     ]
    },
    {
     "data": {
      "text/plain": [
       "0"
      ]
     },
     "execution_count": 8,
     "metadata": {},
     "output_type": "execute_result"
    }
   ],
   "source": [
    "!ls -laoF"
   ]
  },
  {
   "cell_type": "code",
   "execution_count": 9,
   "metadata": {},
   "outputs": [
    {
     "name": "stdout",
     "output_type": "stream",
     "text": [
      "Untitled.ipynb\n",
      "Untitled1.ipynb\n",
      "magicdemo.ipynb\n",
      "quickDemo.png\n",
      "[ process 'ls' exited with code 0 ]\n"
     ]
    },
    {
     "data": {
      "text/plain": [
       "0"
      ]
     },
     "execution_count": 9,
     "metadata": {},
     "output_type": "execute_result"
    }
   ],
   "source": [
    "! ls"
   ]
  },
  {
   "cell_type": "code",
   "execution_count": 10,
   "metadata": {},
   "outputs": [
    {
     "name": "stdout",
     "output_type": "stream",
     "text": [
      "\u001b[90m                                                                                \u001b[39m\n",
      "\u001b[90m \u001b[39m                      === npm audit security report ===                       \u001b[90m \u001b[39m\n",
      "\u001b[90m                                                                                \u001b[39m\n",
      "found 0 vulnerabilities\n",
      " in 359 scanned packages\n",
      "[ process 'npm audit' exited with code 0 ]\n"
     ]
    },
    {
     "data": {
      "text/plain": [
       "0"
      ]
     },
     "execution_count": 10,
     "metadata": {},
     "output_type": "execute_result"
    }
   ],
   "source": [
    "!npm audit"
   ]
  },
  {
   "cell_type": "markdown",
   "metadata": {},
   "source": [
    "## Var Assignment\n",
    "The output of %magic and !exec commands can be assigned to a variable for future reference."
   ]
  },
  {
   "cell_type": "code",
   "execution_count": 11,
   "metadata": {},
   "outputs": [
    {
     "name": "stdout",
     "output_type": "stream",
     "text": [
      "[ loading /Users/ampower/Projects/personal/magicpatch/test/helpers/testModule.js ]\n"
     ]
    }
   ],
   "source": [
    "let mod = %require ../test/helpers/testModule.js"
   ]
  },
  {
   "cell_type": "code",
   "execution_count": 12,
   "metadata": {},
   "outputs": [
    {
     "name": "stdout",
     "output_type": "stream",
     "text": [
      "Module is: { source: 'helpers/testModule.js', worked: true }\n"
     ]
    }
   ],
   "source": [
    "console.log(\"Module is:\", mod);"
   ]
  },
  {
   "cell_type": "code",
   "execution_count": 13,
   "metadata": {},
   "outputs": [
    {
     "name": "stderr",
     "output_type": "stream",
     "text": [
      "evalmachine.<anonymous>:1\n",
      "let dirListing = !ls -laF\n",
      "                 ^\n",
      "\n",
      "ReferenceError: ls is not defined\n",
      "    at evalmachine.<anonymous>:1:18\n",
      "    at Script.runInThisContext (vm.js:132:18)\n",
      "    at runInThisContext (vm.js:315:38)\n",
      "    at runCode (/Users/ampower/Projects/personal/magicpatch/lib/interpreter.js:327:12)\n",
      "    at magicInterpreter (/Users/ampower/Projects/personal/magicpatch/lib/interpreter.js:203:17)\n",
      "    at Object.ijavascriptMonkeyPatch [as runInThisContext] (/Users/ampower/Projects/personal/magicpatch/lib/interpreter.js:67:20)\n",
      "    at run ([eval]:1054:15)\n",
      "    at onRunRequest ([eval]:888:18)\n",
      "    at onMessage ([eval]:848:13)\n",
      "    at process.emit (events.js:314:20)\n"
     ]
    }
   ],
   "source": [
    "let dirListing = !ls -laF"
   ]
  },
  {
   "cell_type": "code",
   "execution_count": null,
   "metadata": {},
   "outputs": [],
   "source": []
  },
  {
   "cell_type": "markdown",
   "metadata": {},
   "source": [
    "##  {var} substitution"
   ]
  },
  {
   "cell_type": "markdown",
   "metadata": {},
   "source": [
    "Using {var} will be replaced with the variable `var`. "
   ]
  },
  {
   "cell_type": "code",
   "execution_count": 14,
   "metadata": {
    "scrolled": true
   },
   "outputs": [
    {
     "name": "stdout",
     "output_type": "stream",
     "text": [
      "42\n"
     ]
    }
   ],
   "source": [
    "x = 42\n",
    "%echo {x}"
   ]
  },
  {
   "cell_type": "code",
   "execution_count": 15,
   "metadata": {},
   "outputs": [
    {
     "name": "stdout",
     "output_type": "stream",
     "text": [
      "{ beer: 'yum' }\n"
     ]
    }
   ],
   "source": [
    "o = {\n",
    "    beer: \"yum\"\n",
    "}\n",
    "%echo {o}"
   ]
  },
  {
   "cell_type": "code",
   "execution_count": 16,
   "metadata": {},
   "outputs": [
    {
     "name": "stdout",
     "output_type": "stream",
     "text": [
      "x42o[object Object]\n"
     ]
    }
   ],
   "source": [
    "%echo x{x}o{o}"
   ]
  },
  {
   "cell_type": "markdown",
   "metadata": {},
   "source": [
    "## View Documentation\n",
    "`?` before or after a magic will show you it's documentation"
   ]
  },
  {
   "cell_type": "code",
   "execution_count": 18,
   "metadata": {},
   "outputs": [
    {
     "data": {
      "text/markdown": [
       "__%echo Documentation:__\n",
       "\n",
       "Usage: %echo &lt;string&gt;<br>\n",
       "<br>\n",
       "Write arguments to the standard output.<br>\n",
       "\n",
       "\n",
       "__File:__ /Users/ampower/Projects/personal/magicpatch/lib/builtin.js"
      ]
     },
     "execution_count": 17,
     "metadata": {},
     "output_type": "execute_result"
    }
   ],
   "source": [
    "?%echo"
   ]
  },
  {
   "cell_type": "code",
   "execution_count": 19,
   "metadata": {},
   "outputs": [
    {
     "data": {
      "text/markdown": [
       "__%echo Documentation:__\n",
       "\n",
       "Usage: %echo &lt;string&gt;<br>\n",
       "<br>\n",
       "Write arguments to the standard output.<br>\n",
       "\n",
       "\n",
       "__File:__ /Users/ampower/Projects/personal/magicpatch/lib/builtin.js"
      ]
     },
     "execution_count": 18,
     "metadata": {},
     "output_type": "execute_result"
    }
   ],
   "source": [
    "%echo?"
   ]
  },
  {
   "cell_type": "markdown",
   "metadata": {},
   "source": [
    "## View Code\n",
    "`??` before or after a magic will show you the code for the magic."
   ]
  },
  {
   "cell_type": "code",
   "execution_count": 20,
   "metadata": {},
   "outputs": [
    {
     "data": {
      "text/markdown": [
       "__%echo Source:__\n",
       "\n",
       "``` js\n",
       "function echo(cmd) {\n",
       "    console.log(this.varSubst(this.line.substring(this.startArgs)));\n",
       "}\n",
       "```\n",
       "\n",
       "__File:__ /Users/ampower/Projects/personal/magicpatch/lib/builtin.js"
      ]
     },
     "execution_count": 19,
     "metadata": {},
     "output_type": "execute_result"
    }
   ],
   "source": [
    "??%echo"
   ]
  },
  {
   "cell_type": "code",
   "execution_count": 21,
   "metadata": {},
   "outputs": [
    {
     "data": {
      "text/markdown": [
       "__%echo Source:__\n",
       "\n",
       "``` js\n",
       "function echo(cmd) {\n",
       "    console.log(this.varSubst(this.line.substring(this.startArgs)));\n",
       "}\n",
       "```\n",
       "\n",
       "__File:__ /Users/ampower/Projects/personal/magicpatch/lib/builtin.js"
      ]
     },
     "execution_count": 20,
     "metadata": {},
     "output_type": "execute_result"
    }
   ],
   "source": [
    "%echo??"
   ]
  },
  {
   "cell_type": "markdown",
   "metadata": {},
   "source": [
    "## Input Caching\n",
    "Previously run commands can be found in a few different ways. The last three commands are available in the global variables `_i`, `_ii`, and `_iii`. All previous commands can be found in the `In` or `_ih` arrays."
   ]
  },
  {
   "cell_type": "code",
   "execution_count": 21,
   "metadata": {},
   "outputs": [
    {
     "name": "stdout",
     "output_type": "stream",
     "text": [
      "var n = \"bob\";\n",
      "console.log(\"hi\", n);\n"
     ]
    }
   ],
   "source": [
    "console.log(In[0])"
   ]
  },
  {
   "cell_type": "code",
   "execution_count": 22,
   "metadata": {},
   "outputs": [
    {
     "name": "stdout",
     "output_type": "stream",
     "text": [
      "%echo hi there\n"
     ]
    }
   ],
   "source": [
    "console.log(In[1])"
   ]
  },
  {
   "cell_type": "code",
   "execution_count": 23,
   "metadata": {},
   "outputs": [
    {
     "name": "stdout",
     "output_type": "stream",
     "text": [
      "%echo hi there\n"
     ]
    }
   ],
   "source": [
    "console.log(_ih[1])"
   ]
  },
  {
   "cell_type": "code",
   "execution_count": 24,
   "metadata": {},
   "outputs": [
    {
     "name": "stdout",
     "output_type": "stream",
     "text": [
      "last input:\n",
      "console.log(_ih[1])\n",
      "\n",
      "second to last input:\n",
      "console.log(In[1])\n",
      "\n",
      "input before that:\n",
      "console.log(In[0])\n"
     ]
    }
   ],
   "source": [
    "console.log(\"last input:\\n\" + _i)\n",
    "console.log(\"\\nsecond to last input:\\n\" + _ii)\n",
    "console.log(\"\\ninput before that:\\n\" + _iii)"
   ]
  },
  {
   "cell_type": "markdown",
   "metadata": {},
   "source": [
    "## Output Caching\n",
    "The previous three output values are stored in `_`, `__`, and `___`."
   ]
  },
  {
   "cell_type": "code",
   "execution_count": 25,
   "metadata": {},
   "outputs": [
    {
     "data": {
      "text/plain": [
       "42"
      ]
     },
     "execution_count": 25,
     "metadata": {},
     "output_type": "execute_result"
    }
   ],
   "source": [
    "21 * 2"
   ]
  },
  {
   "cell_type": "code",
   "execution_count": 26,
   "metadata": {},
   "outputs": [
    {
     "data": {
      "text/plain": [
       "'foo'"
      ]
     },
     "execution_count": 26,
     "metadata": {},
     "output_type": "execute_result"
    }
   ],
   "source": [
    "\"f\" + \"oo\""
   ]
  },
  {
   "cell_type": "code",
   "execution_count": 27,
   "metadata": {},
   "outputs": [
    {
     "data": {
      "text/plain": [
       "1.5707963267948966"
      ]
     },
     "execution_count": 27,
     "metadata": {},
     "output_type": "execute_result"
    }
   ],
   "source": [
    "Math.PI / 2"
   ]
  },
  {
   "cell_type": "code",
   "execution_count": 28,
   "metadata": {},
   "outputs": [
    {
     "name": "stdout",
     "output_type": "stream",
     "text": [
      "last output: 1.5707963267948966\n",
      "second to last output: foo\n",
      "output before that: 42\n"
     ]
    }
   ],
   "source": [
    "console.log(\"last output:\", _)\n",
    "console.log(\"second to last output:\", __)\n",
    "console.log(\"output before that:\", ___)"
   ]
  },
  {
   "cell_type": "markdown",
   "metadata": {},
   "source": [
    "## Cell Magic\n",
    "Cell magics do something special with the entire Jupyter cell. For example, this `%%script` cell magic turns the entire shell into a bash script."
   ]
  },
  {
   "cell_type": "code",
   "execution_count": 29,
   "metadata": {},
   "outputs": [
    {
     "name": "stdout",
     "output_type": "stream",
     "text": [
      "loop 0\n",
      "loop 1\n",
      "loop 2\n",
      "loop 3\n",
      "loop 4\n",
      "loop 5\n",
      "loop 6\n",
      "loop 7\n",
      "loop 8\n",
      "loop 9\n",
      "[ process 'bash /var/folders/6j/bk9lpc4n057831vsshxv0_j8t5f96f/T/tmp-77741-7mpSjUqnnuAq' exited with code 0 ]\n"
     ]
    },
    {
     "data": {
      "text/plain": [
       "0"
      ]
     },
     "execution_count": 29,
     "metadata": {},
     "output_type": "execute_result"
    }
   ],
   "source": [
    "%%script bash\n",
    "for ((i = 0; i < 10; i++)); do\n",
    "    echo \"loop $i\"\n",
    "done"
   ]
  },
  {
   "cell_type": "markdown",
   "metadata": {},
   "source": [
    "## %automagic\n",
    "When automagic is enabled, magics can be called without the leading `%`."
   ]
  },
  {
   "cell_type": "code",
   "execution_count": 30,
   "metadata": {},
   "outputs": [
    {
     "name": "stderr",
     "output_type": "stream",
     "text": [
      "evalmachine.<anonymous>:1\n",
      "echo hi\n",
      "     ^^\n",
      "\n",
      "SyntaxError: Unexpected identifier\n",
      "    at new Script (vm.js:100:7)\n",
      "    at createScript (vm.js:267:10)\n",
      "    at runInThisContext (vm.js:315:10)\n",
      "    at runCode (/Users/ampower/Projects/personal/magicpatch/lib/interpreter.js:327:12)\n",
      "    at magicInterpreter (/Users/ampower/Projects/personal/magicpatch/lib/interpreter.js:203:17)\n",
      "    at Object.ijavascriptMonkeyPatch [as runInThisContext] (/Users/ampower/Projects/personal/magicpatch/lib/interpreter.js:67:20)\n",
      "    at run ([eval]:1054:15)\n",
      "    at onRunRequest ([eval]:888:18)\n",
      "    at onMessage ([eval]:848:13)\n",
      "    at process.emit (events.js:314:20)\n"
     ]
    }
   ],
   "source": [
    "echo hi"
   ]
  },
  {
   "cell_type": "code",
   "execution_count": 31,
   "metadata": {},
   "outputs": [
    {
     "name": "stdout",
     "output_type": "stream",
     "text": [
      "hi\n"
     ]
    }
   ],
   "source": [
    "%automagic on\n",
    "echo hi"
   ]
  },
  {
   "cell_type": "markdown",
   "metadata": {},
   "source": [
    "## Useful Magics"
   ]
  },
  {
   "cell_type": "code",
   "execution_count": 38,
   "metadata": {},
   "outputs": [
    {
     "name": "stdout",
     "output_type": "stream",
     "text": [
      "[ loading /Users/ampower/Projects/personal/magicpatch/test/helpers/testModule ]\n"
     ]
    },
    {
     "data": {
      "text/plain": [
       "{ source: 'helpers/testModule.js', worked: true }"
      ]
     },
     "execution_count": 38,
     "metadata": {},
     "output_type": "execute_result"
    }
   ],
   "source": [
    "%require ../test/helpers/testModule"
   ]
  },
  {
   "cell_type": "code",
   "execution_count": 2,
   "metadata": {},
   "outputs": [
    {
     "name": "stdout",
     "output_type": "stream",
     "text": [
      "Available line magics:\n",
      "%addmagic %automagic %echo %lsmagic %quickref %require\n",
      "\n",
      "Available cell magics:\n",
      "%%script\n",
      "\n",
      "Automagic is ON, % prefix IS NOT needed for line magics.\n"
     ]
    }
   ],
   "source": [
    "%lsmagic"
   ]
  },
  {
   "cell_type": "code",
   "execution_count": 1,
   "metadata": {},
   "outputs": [
    {
     "data": {
      "text/markdown": [
       "# IJavascript + magicpatch\n",
       "An enhanced Interactive JavaScript - Quick Reference Card\n",
       "================================================================\n",
       "\n",
       "%magic?, %magic??      : Get help, or more help for object (also works as ?%magic, %??magic).\n",
       "\n",
       "Magic functions are prefixed by % or %%, and typically take their argumentswithout parentheses, quotes or even commas for convenience.  Line magics take asingle % and cell magics are prefixed with two %%.\n",
       "\n",
       "The following magic functions are currently available:\n",
       "\n",
       "%%script:\n",
       "    Run a cell via a shell command.\n",
       "%addmagic:\n",
       "    Adds a new `function` as a magic named `name`.\n",
       "%automagic:\n",
       "    Make magic functions callable without having to type the initial %.\n",
       "%echo:\n",
       "    Write arguments to the standard output.\n",
       "%lsmagic:\n",
       "    No brief available.\n",
       "%quickref:\n",
       "    No brief available.\n",
       "%require:\n",
       "    Used to import modules, JSON, and local files.\n"
      ]
     },
     "execution_count": 1,
     "metadata": {},
     "output_type": "execute_result"
    }
   ],
   "source": [
    "%quickref"
   ]
  },
  {
   "cell_type": "code",
   "execution_count": 34,
   "metadata": {
    "scrolled": true
   },
   "outputs": [
    {
     "name": "stderr",
     "output_type": "stream",
     "text": [
      "UsageError: Line magic function '%ls' not found.\n"
     ]
    }
   ],
   "source": [
    "%ls"
   ]
  },
  {
   "cell_type": "code",
   "execution_count": 35,
   "metadata": {},
   "outputs": [
    {
     "name": "stderr",
     "output_type": "stream",
     "text": [
      "UsageError: Line magic function '%ls' not found.\n"
     ]
    }
   ],
   "source": [
    "%ls -laF"
   ]
  },
  {
   "cell_type": "code",
   "execution_count": 36,
   "metadata": {},
   "outputs": [
    {
     "name": "stderr",
     "output_type": "stream",
     "text": [
      "UsageError: Line magic function '%who' not found.\n"
     ]
    }
   ],
   "source": [
    "%who"
   ]
  },
  {
   "cell_type": "code",
   "execution_count": 37,
   "metadata": {},
   "outputs": [
    {
     "name": "stderr",
     "output_type": "stream",
     "text": [
      "UsageError: Line magic function '%whos' not found.\n"
     ]
    }
   ],
   "source": [
    "%whos"
   ]
  },
  {
   "cell_type": "code",
   "execution_count": null,
   "metadata": {},
   "outputs": [],
   "source": []
  }
 ],
 "metadata": {
  "kernelspec": {
   "display_name": "Javascript (Node.js)",
   "language": "javascript",
   "name": "javascript"
  },
  "language_info": {
   "file_extension": ".js",
   "mimetype": "application/javascript",
   "name": "javascript",
   "version": "14.8.0"
  },
  "toc": {
   "base_numbering": 1,
   "nav_menu": {},
   "number_sections": true,
   "sideBar": true,
   "skip_h1_title": false,
   "title_cell": "Table of Contents",
   "title_sidebar": "Contents",
   "toc_cell": false,
   "toc_position": {
    "height": "calc(100% - 180px)",
    "left": "10px",
    "top": "150px",
    "width": "336px"
   },
   "toc_section_display": true,
   "toc_window_display": true
  }
 },
 "nbformat": 4,
 "nbformat_minor": 4
}
